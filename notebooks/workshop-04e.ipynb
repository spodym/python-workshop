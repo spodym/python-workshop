{
 "metadata": {
  "language_info": {
   "codemirror_mode": {
    "name": "ipython",
    "version": 3
   },
   "file_extension": ".py",
   "mimetype": "text/x-python",
   "name": "python",
   "nbconvert_exporter": "python",
   "pygments_lexer": "ipython3",
   "version": "3.7.5"
  },
  "orig_nbformat": 2,
  "kernelspec": {
   "name": "python375jvsc74a57bd0c040754d37aebe47bd3f76843674641836fbf8bf0b1365ab3de02d7988dd1eb5",
   "display_name": "Python 3.7.5 64-bit ('3.7.5': pyenv)"
  }
 },
 "nbformat": 4,
 "nbformat_minor": 2,
 "cells": [
  {
   "source": [
    "# Workshop #4 exercises - functions"
   ],
   "cell_type": "markdown",
   "metadata": {}
  },
  {
   "cell_type": "code",
   "execution_count": null,
   "metadata": {},
   "outputs": [],
   "source": [
    "\"\"\"\n",
    "#1 Write a function which which sums up two arguments. Both arguments are optional and will default to 0. \n",
    "\"\"\"\n",
    "\n",
    "assert sum_up(4, 5) == 9\n",
    "assert sum_up(4) == 4\n",
    "assert sum_up() == 0\n",
    "'ok!'"
   ]
  },
  {
   "cell_type": "code",
   "execution_count": null,
   "metadata": {},
   "outputs": [],
   "source": [
    "\"\"\"\n",
    "#2 Write a function that will sum up all arguments provided. It should throw `Exception('bad input')` if argument is not int.\n",
    "\"\"\"\n",
    "\n",
    "assert sum_up(1, 1, 1, 1, 1) == 5\n",
    "assert sum_up(4, 5) == 9\n",
    "assert sum_up(4) == 4\n",
    "assert sum_up() == 0\n",
    "try:\n",
    "    sum_up('')\n",
    "    assert False\n",
    "except Exception as e:\n",
    "    assert str(e) == 'bad input'\n",
    "'ok!'"
   ]
  },
  {
   "cell_type": "code",
   "execution_count": null,
   "metadata": {},
   "outputs": [],
   "source": [
    "\"\"\"\n",
    "#3 Implement `arg_converter` function. It takes any number of args, filters out odd numbers and invokes kwarg_printer with proper argument. Fill `__`. There is no need to add more lines.\n",
    "\"\"\"\n",
    "def arg_converter(*args):\n",
    "    data = __\n",
    "    return kwarg_printer(__)\n",
    "\n",
    "def kwarg_printer(**kwargs):\n",
    "    return list(kwargs.items())\n",
    "\n",
    "assert arg_converter(1, 2, 3, 4) == [('2', 200), ('4', 400)]\n",
    "assert arg_converter(2, 4, 6, 8) == [('2', 200), ('4', 400), ('6', 600), ('8', 800)]\n",
    "assert arg_converter(1, 3, 5) == []\n",
    "assert arg_converter(*range(40)) == [('0', 0),\n",
    " ('2', 200),\n",
    " ('4', 400),\n",
    " ('6', 600),\n",
    " ('8', 800),\n",
    " ('10', 1000),\n",
    " ('12', 1200),\n",
    " ('14', 1400),\n",
    " ('16', 1600),\n",
    " ('18', 1800),\n",
    " ('20', 2000),\n",
    " ('22', 2200),\n",
    " ('24', 2400),\n",
    " ('26', 2600),\n",
    " ('28', 2800),\n",
    " ('30', 3000),\n",
    " ('32', 3200),\n",
    " ('34', 3400),\n",
    " ('36', 3600),\n",
    " ('38', 3800)]\n",
    "'ok!'"
   ]
  },
  {
   "cell_type": "code",
   "execution_count": null,
   "metadata": {},
   "outputs": [],
   "source": [
    "\"\"\"\n",
    "#4 Reverse list. Use recursion and unpacking.\n",
    "\"\"\"\n",
    "\n",
    "def reverse_list(some_list):\n",
    "    if not some_list:\n",
    "        return []\n",
    "    __ = some_list\n",
    "    return __ + __\n",
    "\n",
    "assert reverse_list([1, 2, 3, 4]) == [4, 3, 2, 1]\n",
    "'ok!'"
   ]
  },
  {
   "cell_type": "code",
   "execution_count": null,
   "metadata": {},
   "outputs": [],
   "source": [
    "\"\"\"\n",
    "#5 Finish implementing number to ordinal converter.\n",
    "\"\"\"\n",
    "def __\n",
    "...\n",
    "\n",
    "ordinals = {\n",
    "    __: __,\n",
    "    ...\n",
    "}\n",
    "def number_to_ordinal(number):\n",
    "    str_number = str(number)\n",
    "    ordinal_of = ordinals.__\n",
    "\n",
    "    # 11th, 112th, etc.\n",
    "    if number > 10 and str_number[-2] == '1':\n",
    "        ordinal_of = default_ordinal\n",
    "\n",
    "    return ordinal_of(number)\n",
    "\n",
    "assert number_to_ordinal(0) == '0th'\n",
    "assert number_to_ordinal(1) == '1st'\n",
    "assert number_to_ordinal(2) == '2nd'\n",
    "assert number_to_ordinal(3) == '3rd'\n",
    "assert number_to_ordinal(4) == '4th'\n",
    "assert number_to_ordinal(45) == '45th'\n",
    "assert number_to_ordinal(101) == '101st'\n",
    "assert number_to_ordinal(102) == '102nd'\n",
    "assert number_to_ordinal(111) == '111th'\n",
    "assert number_to_ordinal(112) == '112th'\n",
    "assert number_to_ordinal(1047) == '1047th'\n",
    "'ok!'"
   ]
  },
  {
   "cell_type": "code",
   "execution_count": null,
   "metadata": {},
   "outputs": [],
   "source": [
    "\"\"\"\n",
    "#6 Use `number_to_ordinal` to create infinite ordinal generator. Starting from '1st'.\n",
    "\"\"\"\n",
    "def ordinal_generator():\n",
    "    __\n",
    "\n",
    "ordinal_iterator = ordinal_generator()\n",
    "assert next(ordinal_iterator) == '1st'\n",
    "assert next(ordinal_iterator) == '2nd'\n",
    "for _ in range(100):\n",
    "    next(ordinal_iterator)\n",
    "assert next(ordinal_iterator) == '103rd'\n",
    "assert next(ordinal_iterator) == '104th'\n",
    "'ok!'"
   ]
  },
  {
   "cell_type": "code",
   "execution_count": null,
   "metadata": {},
   "outputs": [],
   "source": [
    "\"\"\"\n",
    "#7 Pascal's triangle. Finish implementing function.\n",
    "\"\"\"\n",
    "def print_pascals(level=None, levels_to_print=1):\n",
    "    if not level:\n",
    "        level = __\n",
    "\n",
    "    print(level)\n",
    "    levels_to_print -= 1\n",
    "    if levels_to_print == 0:\n",
    "        __\n",
    "    \n",
    "    __\n",
    "\n",
    "    print_pascals(next_level, levels_to_print)\n",
    "\n",
    "\"\"\"\n",
    "print_pascals(levels_to_print=5) should print:\n",
    "[1]\n",
    "[1, 1]\n",
    "[1, 2, 1]\n",
    "[1, 3, 3, 1]\n",
    "[1, 4, 6, 4, 1]\n",
    "\"\"\"\n",
    "print_pascals(levels_to_print=5)"
   ]
  }
 ]
}