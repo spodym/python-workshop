{
 "metadata": {
  "language_info": {
   "codemirror_mode": {
    "name": "ipython",
    "version": 3
   },
   "file_extension": ".py",
   "mimetype": "text/x-python",
   "name": "python",
   "nbconvert_exporter": "python",
   "pygments_lexer": "ipython3",
   "version": "3.7.5"
  },
  "orig_nbformat": 2,
  "kernelspec": {
   "name": "python375jvsc74a57bd0c040754d37aebe47bd3f76843674641836fbf8bf0b1365ab3de02d7988dd1eb5",
   "display_name": "Python 3.7.5 64-bit ('3.7.5': pyenv)"
  }
 },
 "nbformat": 4,
 "nbformat_minor": 2,
 "cells": [
  {
   "source": [
    "# Workshop #2 exercises - sequence types, loops"
   ],
   "cell_type": "markdown",
   "metadata": {}
  },
  {
   "source": [
    "## Exercises\n",
    "\n",
    "`assert` is a statement which will raise exception for `False` value. For `True` it does nothing. Here it is used like a test check.\n",
    "\n",
    "Replace `pass` and/or `__` statement with correct logic."
   ],
   "cell_type": "markdown",
   "metadata": {}
  },
  {
   "cell_type": "code",
   "execution_count": null,
   "metadata": {},
   "outputs": [],
   "source": [
    "\"\"\"\n",
    "Length of Number\n",
    "Create a function that takes a number num and returns its length.\n",
    "\"\"\"\n",
    "\n",
    "def number_length(number):\n",
    "    result = __\n",
    "    return result\n",
    "\n",
    "assert number_length(3) == 1\n",
    "assert number_length(22) == 2\n",
    "assert number_length(2345) == 4\n",
    "print('ok!')"
   ]
  },
  {
   "cell_type": "code",
   "execution_count": null,
   "metadata": {},
   "outputs": [],
   "source": [
    "\"\"\"\n",
    "Count vowels in string.\n",
    "a, e, i, o, u are considered vowels.\n",
    "\"\"\"\n",
    "\n",
    "def count_vowels(word):\n",
    "    pass\n",
    "\n",
    "assert count_vowels(\"bacon\") == 2\n",
    "assert count_vowels(\"pancake\") == 3\n",
    "assert count_vowels(\"loop\") == 2\n",
    "assert count_vowels(\"generators\") == 4\n",
    "print('ok!')"
   ]
  },
  {
   "cell_type": "code",
   "execution_count": null,
   "metadata": {},
   "outputs": [],
   "source": [
    "\"\"\"\n",
    "Hamming distance is the number of characters that differ between two strings.\n",
    "You are given two strings word1 and word2. Both have the same length. Calculate Hamming distance.\n",
    "\"\"\"\n",
    "\n",
    "def hamming_distance(word1, word2):\n",
    "    pass\n",
    "\n",
    "assert hamming_distance(\"bacon\", \"12345\") == 5\n",
    "assert hamming_distance(\"pancake\", \"pancake\") == 0\n",
    "assert hamming_distance(\"l.skywalker\", \"a.skywalker\") == 1\n",
    "print('ok!')"
   ]
  },
  {
   "cell_type": "code",
   "execution_count": null,
   "metadata": {},
   "outputs": [],
   "source": [
    "\"\"\"\n",
    "Shorten word. For given word return it's shortened version. Shortend version contains at most 4 characters - first two and last two.\n",
    "\"\"\"\n",
    "\n",
    "def shorten_word(word):\n",
    "    pass\n",
    "\n",
    "assert shorten_word(\"\") == \"\"\n",
    "assert shorten_word(\"red\") == \"red\"\n",
    "assert shorten_word(\"bacon\") == \"baon\"\n",
    "assert shorten_word(\"pancake\") == \"pake\"\n",
    "print('ok!')"
   ]
  },
  {
   "cell_type": "code",
   "execution_count": null,
   "metadata": {},
   "outputs": [],
   "source": [
    "\"\"\"\n",
    "Reverse a list. Try few approaches.\n",
    "\"\"\"\n",
    "\n",
    "def reverse_list_1(lst):\n",
    "    pass\n",
    "\n",
    "assert reverse_list_1([1, 2, 3]) == [3, 2, 1]\n",
    "# assert reverse_list_2([1, 2, 3]) == [3, 2, 1]\n",
    "# assert reverse_list_3([1, 2, 3]) == [3, 2, 1]\n",
    "print('ok!')"
   ]
  },
  {
   "cell_type": "code",
   "execution_count": null,
   "metadata": {},
   "outputs": [],
   "source": [
    "\"\"\"\n",
    "Matching parenthesis. Verify that string contains all matching brackets: (, ), [, ], {, }.\n",
    "(()) - matching\n",
    "([])([]) - matching\n",
    "[} - not matching\n",
    "()( - not matching\n",
    "\"\"\"\n",
    "\n",
    "def verify(brackets):\n",
    "    pass\n",
    "\n",
    "assert verify('(())') is True\n",
    "assert verify('(((([]){{}}{([((()))])})))') is True\n",
    "assert verify('(())(') is False\n",
    "assert verify('((())') is False\n",
    "assert verify('[}') is False\n",
    "print('ok!')"
   ]
  },
  {
   "cell_type": "code",
   "execution_count": null,
   "metadata": {},
   "outputs": [],
   "source": [
    "\"\"\"\n",
    "For numbers 1 - 20 create list of their FizzBuzz representation.\n",
    "If the number is multiple of 3 - \"Fizz\"\n",
    "If is multiple of 5 - \"Buzz\"\n",
    "If is multiple of 3 and 5 - \"FizzBuzz\"\n",
    "If is not multiple of 3 or 5 - print the number itself.\n",
    "\"\"\"\n",
    "\n",
    "def fizz_buzz():\n",
    "    pass\n",
    "\n",
    "assert fizz_buzz() == [\n",
    "    1, 2, 'Fizz', 4, 'Buzz', \n",
    "    'Fizz', 7, 8, 'Fizz', 'Buzz', \n",
    "    11, 'Fizz', 13, 14, 'FizzBuzz', \n",
    "    16, 17, 'Fizz', 19, 'Buzz']\n",
    "print('ok!')\n"
   ]
  },
  {
   "cell_type": "code",
   "execution_count": null,
   "metadata": {},
   "outputs": [],
   "source": [
    "\"\"\"\n",
    "Each new term in the Fibonacci sequence is generated by adding the previous two terms. By starting with 1 and 2, the first 10 terms will be:\n",
    "\n",
    "1, 2, 3, 5, 8, 13, 21, 34, 55, 89, ...\n",
    "\n",
    "By considering the terms in the Fibonacci sequence whose values do not exceed four million, find the sum of the even-valued terms.\n",
    "\"\"\"\n",
    "\n",
    "def even_fib_sum(threshold):\n",
    "    pass\n",
    "\n",
    "assert even_fib_sum(10) == 10\n",
    "assert even_fib_sum(100) == 188\n",
    "assert even_fib_sum(1_000) == 798\n",
    "assert even_fib_sum(2_000_000) == 1089154\n",
    "assert even_fib_sum(4_000_000) == 4613732\n",
    "print('ok!')"
   ]
  },
  {
   "cell_type": "code",
   "execution_count": null,
   "metadata": {},
   "outputs": [],
   "source": [
    "\"\"\"\n",
    "Matching digits. You are given sequence of digits. Find the sum of all digits that match next digit in list. The list is circular - last digit might match with the first one. \n",
    "Example:\n",
    "- 3,3,5,5 will produce 8 (3 + 5). 3 matches 3, 3 does not match 5, 5 matches 5, 5 does not match 3.\n",
    "- 1,2,3,4,5,6 will produce 0. No digit matches next one.\n",
    "- 1,2,3,4,5,1 will produce 1. Last digit matches first one.\n",
    "\"\"\"\n",
    "\n",
    "def digit_match(digits):\n",
    "    pass\n",
    "\n",
    "assert digit_match((3,3,5,5)) == 8\n",
    "assert digit_match((9,1,2,3,4,9)) == 9\n",
    "assert digit_match((1,1,1,1,1)) == 5\n",
    "print('ok!')"
   ]
  },
  {
   "cell_type": "code",
   "execution_count": null,
   "metadata": {},
   "outputs": [],
   "source": [
    "\"\"\"\n",
    "Extended digit matching. You are given sequence of digits. Find the sum of all digits that match digit halfway around the list. The list is circular and has even number of elements. \n",
    "Example:\n",
    "- 1,2,1,2 will produce 6 (1 + 2 + 1 + 2). all digits are matching.\n",
    "- 1,2,3,5,6,3 will produce 6. Only digit 3 has match - but it matches both ways.\n",
    "\"\"\"\n",
    "\n",
    "def digit_match(digits):\n",
    "    pass\n",
    "\n",
    "assert digit_match(\"1212\") == 6\n",
    "assert digit_match(\"234234\") == 18\n",
    "assert digit_match(\"19131415\") == 4\n",
    "assert digit_match(\"1212\") == 6\n",
    "assert digit_match(\"123563\") == 6\n",
    "print('ok!')"
   ]
  },
  {
   "cell_type": "code",
   "execution_count": null,
   "metadata": {},
   "outputs": [],
   "source": [
    "\"\"\"\n",
    "Draw a tree. Like this:\n",
    "   *\n",
    "  /o\\\n",
    " /o.o\\\n",
    "/o.o.o\\\n",
    "   H\n",
    "Make it any height you want!\n",
    "\"\"\"\n",
    "\n",
    "\n",
    "def draw_a_tree(height):\n",
    "    pass\n",
    "\n",
    "print(draw_a_tree(10))\n",
    "assert draw_a_tree(3) == \"\"\"\n",
    "   *\n",
    "  /o\\\\\n",
    " /o.o\\\\\n",
    "/o.o.o\\\\\n",
    "   H\n",
    "\"\"\""
   ]
  }
 ]
}