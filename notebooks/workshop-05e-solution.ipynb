{
 "cells": [
  {
   "cell_type": "markdown",
   "metadata": {},
   "source": [
    "# Workshop #5 exercises - classes, modules and packages"
   ]
  },
  {
   "cell_type": "code",
   "execution_count": 1,
   "metadata": {},
   "outputs": [
    {
     "data": {
      "text/plain": [
       "'ok!'"
      ]
     },
     "execution_count": 1,
     "metadata": {},
     "output_type": "execute_result"
    }
   ],
   "source": [
    "\"\"\"\n",
    "#1 Create a Movie class with `duration` attribute.\n",
    "\"\"\"\n",
    "class Movie:\n",
    "    def __init__(self, duration):\n",
    "        self.duration = duration\n",
    "\n",
    "movie = Movie(120)\n",
    "assert isinstance(movie, Movie)\n",
    "assert movie.duration == 120\n",
    "'ok!'"
   ]
  },
  {
   "cell_type": "code",
   "execution_count": 2,
   "metadata": {},
   "outputs": [
    {
     "data": {
      "text/plain": [
       "'ok!'"
      ]
     },
     "execution_count": 2,
     "metadata": {},
     "output_type": "execute_result"
    }
   ],
   "source": [
    "\"\"\"\n",
    "#2 Create Movie subclasses: Drama, Comedy with method `makes_people`.\n",
    "Bonus: Try creating solution with overriding `makes_people` and without.\n",
    "\"\"\"\n",
    "\n",
    "class Movie:\n",
    "    feeling = 'think'\n",
    "\n",
    "    def __init__(self, duration):\n",
    "        self.duration = duration\n",
    "\n",
    "    def makes_people(self):\n",
    "        return str(self.duration) + ' minutes will make people ' + self.feeling + '.'\n",
    "\n",
    "class Drama(Movie):\n",
    "    feeling = 'cry'\n",
    "\n",
    "class Comedy(Movie):\n",
    "    feeling = 'laught'\n",
    "\n",
    "movie = Movie(120)\n",
    "drama = Drama(200)\n",
    "comedy = Comedy(90)\n",
    "\n",
    "assert isinstance(drama, Movie)\n",
    "assert isinstance(comedy, Movie)\n",
    "assert drama.makes_people() == '200 minutes will make people cry.'\n",
    "assert comedy.makes_people() == '90 minutes will make people laught.'\n",
    "assert movie.makes_people() == '120 minutes will make people think.'\n",
    "'ok!'"
   ]
  },
  {
   "cell_type": "code",
   "execution_count": 3,
   "metadata": {},
   "outputs": [
    {
     "data": {
      "text/plain": [
       "'ok!'"
      ]
     },
     "execution_count": 3,
     "metadata": {},
     "output_type": "execute_result"
    }
   ],
   "source": [
    "\"\"\"\n",
    "#3 Load data from json. Modify Movie class.\n",
    "\"\"\"\n",
    "\n",
    "import json\n",
    "\n",
    "cinema_data = '{\"American Psycho\": {\"rating\": 7.6, \"genre\": \"Comedy, Crime, Drama\", \"ticket_price\": 12.2}, \"The Thing\": {\"rating\": 8.1, \"genre\": \"Horror, Mystery, Sci-Fi\", \"ticket_price\": 11.0}, \"Jaws\": {\"rating\": 8.0, \"genre\": \"Adventure, Thriller\", \"ticket_price\": 19.7}}'\n",
    "\n",
    "cinema_data = json.loads(cinema_data)\n",
    "movies = {}\n",
    "\n",
    "class Movie:\n",
    "    def __init__(self, name, rating, genre, **kwargs):\n",
    "        self.name = name\n",
    "        self.rating = rating\n",
    "        self.genre = genre\n",
    "\n",
    "for movie_name, movie_data in cinema_data.items():\n",
    "    movies[movie_name] = Movie(name=movie_name, **movie_data)\n",
    "\n",
    "assert movies['American Psycho'].name == 'American Psycho'\n",
    "assert movies['American Psycho'].rating == 7.6\n",
    "assert movies['American Psycho'].genre == 'Comedy, Crime, Drama'\n",
    "assert movies['The Thing'].rating == 8.1\n",
    "assert movies['Jaws'].genre == 'Adventure, Thriller'\n",
    "'ok!'"
   ]
  },
  {
   "cell_type": "code",
   "execution_count": 4,
   "metadata": {},
   "outputs": [
    {
     "data": {
      "text/plain": [
       "Decimal('1.00')"
      ]
     },
     "execution_count": 4,
     "metadata": {},
     "output_type": "execute_result"
    }
   ],
   "source": [
    "\"\"\"\n",
    "#4 Fix important fiscal function.\n",
    "\"\"\"\n",
    "from decimal import Decimal\n",
    "\n",
    "def accumulate_fee(times):\n",
    "    fee = Decimal('0.01')\n",
    "    total_fees = Decimal('0')\n",
    "    for _ in range(times):\n",
    "        total_fees += fee\n",
    "    return total_fees\n",
    "\n",
    "accumulate_fee(times=100)"
   ]
  },
  {
   "cell_type": "code",
   "execution_count": 5,
   "metadata": {},
   "outputs": [
    {
     "data": {
      "text/plain": [
       "b'Waski, jak ty mnie zaimponowales w tej chwili'"
      ]
     },
     "execution_count": 5,
     "metadata": {},
     "output_type": "execute_result"
    }
   ],
   "source": [
    "\"\"\"\n",
    "#5 Decode secret message\n",
    "\"\"\"\n",
    "import base64\n",
    "message = b'V2Fza2ksIGphayB0eSBtbmllIHphaW1wb25vd2FsZXMgdyB0ZWogY2h3aWxp'\n",
    "base64.b64decode(message)"
   ]
  },
  {
   "cell_type": "code",
   "execution_count": 6,
   "metadata": {},
   "outputs": [
    {
     "data": {
      "text/plain": [
       "'ok!'"
      ]
     },
     "execution_count": 6,
     "metadata": {},
     "output_type": "execute_result"
    }
   ],
   "source": [
    "\"\"\"\n",
    "#6 Practice using defaultdict. Count letters.\n",
    "\"\"\"\n",
    "from collections import defaultdict\n",
    "\n",
    "def count_letters(word):\n",
    "    counter = defaultdict(int)\n",
    "    for letter in word:\n",
    "        counter[letter] += 1\n",
    "    return counter\n",
    "\n",
    "letters = count_letters(\"classes\")\n",
    "assert letters['s'] == 3\n",
    "assert letters['l'] == 1\n",
    "'ok!'"
   ]
  },
  {
   "cell_type": "code",
   "execution_count": 7,
   "metadata": {},
   "outputs": [
    {
     "data": {
      "text/plain": [
       "'ok!'"
      ]
     },
     "execution_count": 7,
     "metadata": {},
     "output_type": "execute_result"
    }
   ],
   "source": [
    "\"\"\"\n",
    "#7 Practice using default dict. Make dict mapping letter to list of all its indexes in a word.\n",
    "\"\"\"\n",
    "from collections import defaultdict\n",
    "\n",
    "def letter_indexes(word):\n",
    "    indexes = defaultdict(list)\n",
    "    for idx, letter in enumerate(word):\n",
    "        indexes[letter].append(idx)\n",
    "    return indexes\n",
    "\n",
    "letters = letter_indexes(\"classes\")\n",
    "assert letters['s'] == [3, 4, 6]\n",
    "assert letters['l'] == [1]\n",
    "'ok!'"
   ]
  }
 ],
 "metadata": {
  "kernelspec": {
   "display_name": "Python 3",
   "language": "python",
   "name": "python3"
  },
  "language_info": {
   "codemirror_mode": {
    "name": "ipython",
    "version": 3
   },
   "file_extension": ".py",
   "mimetype": "text/x-python",
   "name": "python",
   "nbconvert_exporter": "python",
   "pygments_lexer": "ipython3",
   "version": "3.7.5"
  }
 },
 "nbformat": 4,
 "nbformat_minor": 2
}
