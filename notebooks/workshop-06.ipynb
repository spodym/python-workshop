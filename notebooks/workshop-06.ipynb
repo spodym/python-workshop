{
 "cells": [
  {
   "cell_type": "markdown",
   "metadata": {},
   "source": [
    "# Workshop #6 - context managers, decorators and scope"
   ]
  },
  {
   "cell_type": "markdown",
   "metadata": {},
   "source": [
    "## dunder"
   ]
  },
  {
   "cell_type": "code",
   "execution_count": null,
   "metadata": {},
   "outputs": [],
   "source": [
    "%reload_ext nbtutor"
   ]
  },
  {
   "cell_type": "code",
   "execution_count": null,
   "metadata": {},
   "outputs": [],
   "source": [
    "class Bird:\n",
    "    def __init__(self, wingspan):\n",
    "        self.wingspan = wingspan\n",
    "\n",
    "    def __lt__(self, other):\n",
    "        return self.wingspan < other.wingspan\n",
    "\n",
    "    # def __eq__(self, other):\n",
    "    #     return self.wingspan == other.wingspan"
   ]
  },
  {
   "cell_type": "code",
   "execution_count": null,
   "metadata": {},
   "outputs": [],
   "source": [
    "birb_1 = Bird(101)\n",
    "birb_2 = Bird(74)\n",
    "birb_3 = Bird(74)"
   ]
  },
  {
   "cell_type": "code",
   "execution_count": null,
   "metadata": {},
   "outputs": [],
   "source": [
    "birb_1 < birb_2"
   ]
  },
  {
   "cell_type": "markdown",
   "metadata": {},
   "source": [
    "Operator|Expression|Internally\n",
    ":-|:-|:-\n",
    "Addition|p1 + p2|p1.\\__add__(p2)\n",
    "Subtraction|p1 - p2|p1.\\__sub__(p2)\n",
    "Multiplication|p1 * p2|p1.\\__mul__(p2)\n",
    "Power|p1 ** p2|p1.\\__pow__(p2)\n",
    "Division|p1 / p2|p1.\\__truediv__(p2)\n",
    "Floor Division|p1 // p2|p1.\\__floordiv__(p2)\n",
    "Remainder (modulo)|p1 % p2|p1.\\__mod__(p2)\n",
    "Bitwise Left Shift|p1 << p2|p1.\\__lshift__(p2)\n",
    "Bitwise Right Shift|p1 >> p2|p1.\\__rshift__(p2)\n",
    "Bitwise AND|p1 & p2|p1.\\__and__(p2)\n",
    "Bitwise OR|p1 \\| p2|p1.\\__or__(p2)\n",
    "Bitwise XOR|p1 ^ p2|p1.\\__xor__(p2)\n",
    "Bitwise NOT|~p1|p1.\\__invert__()\n",
    "Less than|p1 < p2|p1.\\__lt__(p2)\n",
    "Less than or equal to|p1 <= p2|p1.\\__le__(p2)\n",
    "Equal to|p1 == p2|p1.\\__eq__(p2)\n",
    "Not equal to|p1 != p2|p1.\\__ne__(p2)\n",
    "Greater than|p1 > p2|p1.\\__gt__(p2)\n",
    "Greater than or equal to|p1 >= p2|p1.\\__ge__(p2)"
   ]
  },
  {
   "cell_type": "markdown",
   "metadata": {},
   "source": [
    "### item/attribute/method lookup\n",
    "\n",
    "- \\__getattribute__\n",
    "- \\__getattr__\n",
    "- \\__delattr__\n",
    "- \\__delitem__\n",
    "- \\__delslice__\n",
    "- \\__setattr__\n",
    "- \\__setitem__\n",
    "- \\__setslice__\n",
    "- \\__missing__\n",
    "- \\__getitem__\n",
    "- \\__getslice__\n",
    "\n",
    "### equality and hashing\n",
    "\n",
    "- \\__eq__\n",
    "- \\__ge__\n",
    "- \\__gt__\n",
    "- \\__le__\n",
    "- \\__ne__\n",
    "- \\__lt__\n",
    "- \\__hash__\n",
    "\n",
    "### binary operators\n",
    "\n",
    "- \\__add__\n",
    "- \\__and__\n",
    "- \\__divmod__\n",
    "- \\__floordiv__\n",
    "- \\__lshift__\n",
    "- \\__matmul__\n",
    "- \\__mod__\n",
    "- \\__mul__\n",
    "- \\__or__\n",
    "- \\__pow__\n",
    "- \\__rshift__\n",
    "- \\__sub__\n",
    "- \\__truediv__\n",
    "- \\__xor__\n",
    "\n",
    "- \\__radd__\n",
    "- \\__rand__\n",
    "- \\__rdiv__\n",
    "- \\__rdivmod__\n",
    "- \\__rfloordiv__\n",
    "- \\__rlshift__\n",
    "- \\__rmatmul__\n",
    "- \\__rmod__\n",
    "- \\__rmul__\n",
    "- \\__ror__\n",
    "- \\__rpow__\n",
    "- \\__rrshift__\n",
    "- \\__rsub__\n",
    "- \\__rtruediv__\n",
    "- \\__rxor__\n",
    "\n",
    "- \\__iadd__\n",
    "- \\__iand__\n",
    "- \\__ifloordiv__\n",
    "- \\__ilshift__\n",
    "- \\__imatmul__\n",
    "- \\__imod__\n",
    "- \\__imul__\n",
    "- \\__ior__\n",
    "- \\__ipow__\n",
    "- \\__irshift__\n",
    "- \\__isub__\n",
    "- \\__itruediv__\n",
    "- \\__ixor__\n",
    "\n",
    "### unary operators\n",
    "\n",
    "- \\__abs__\n",
    "- \\__neg__\n",
    "- \\__pos__\n",
    "- \\__invert__\n",
    "\n",
    "### math\n",
    "\n",
    "- \\__index__\n",
    "- \\__trunc__\n",
    "- \\__floor__\n",
    "- \\__ceil__\n",
    "- \\__round__\n",
    "\n",
    "### iterator\n",
    "\n",
    "- \\__iter__\n",
    "- \\__len__\n",
    "- \\__reversed__\n",
    "- \\__contains__\n",
    "- \\__next__\n",
    "\n",
    "### numeric type casting\n",
    "\n",
    "- \\__int__\n",
    "- \\__bool__\n",
    "- \\__nonzero__\n",
    "- \\__complex__\n",
    "- \\__float__\n",
    "\n",
    "### others\n",
    "\n",
    "- \\__format__\n",
    "- \\__cmp__\n",
    "\n",
    "### context manager\n",
    "\n",
    "- \\__enter__\n",
    "- \\__exit__\n",
    "\n",
    "### descriptor\n",
    "\n",
    "- \\__get__\n",
    "- \\__set__\n",
    "- \\__delete__\n",
    "- \\__set_name__\n",
    "\n",
    "### async\n",
    "\n",
    "- \\__aenter__\n",
    "- \\__aexit__\n",
    "- \\__aiter__\n",
    "- \\__anext__\n",
    "- \\__await__\n",
    "\n",
    "### creation and typing\n",
    "\n",
    "- \\__call__\n",
    "- \\__class__\n",
    "- \\__dir__\n",
    "- \\__init__\n",
    "- \\__init_subclass__\n",
    "- \\__prepare__\n",
    "- \\__new__\n",
    "- \\__subclasses__\n",
    "\n",
    "### instance / subclass check\n",
    "\n",
    "- \\__instancecheck__\n",
    "- \\__subclasscheck__\n",
    "\n",
    "### generic types\n",
    "\n",
    "- \\__class_getitem__\n",
    "\n",
    "### str and repr\n",
    "\n",
    "- \\__str__\n",
    "- \\__repr__\n",
    "\n",
    "### modules\n",
    "\n",
    "- \\__import__\n",
    "\n",
    "### others\n",
    "\n",
    "- \\__bytes__\n",
    "- \\__fspath__\n",
    "- \\__getnewargs__\n",
    "- \\__reduce__\n",
    "- \\__reduce_ex__\n",
    "- \\__sizeof__\n",
    "- \\__length_hint__"
   ]
  },
  {
   "cell_type": "code",
   "execution_count": null,
   "metadata": {},
   "outputs": [],
   "source": [
    "class WeirdClass:\n",
    "    def __iter__(self):\n",
    "        yield from range(10)\n",
    "\n",
    "    def __contains__(self, el):\n",
    "        return el == 1"
   ]
  },
  {
   "cell_type": "code",
   "execution_count": null,
   "metadata": {},
   "outputs": [],
   "source": [
    "wc = WeirdClass()"
   ]
  },
  {
   "cell_type": "code",
   "execution_count": null,
   "metadata": {},
   "outputs": [],
   "source": [
    "1 in wc, 2 in wc"
   ]
  },
  {
   "cell_type": "code",
   "execution_count": null,
   "metadata": {},
   "outputs": [],
   "source": [
    "[x for x in wc]"
   ]
  },
  {
   "cell_type": "markdown",
   "metadata": {},
   "source": [
    "## context managers"
   ]
  },
  {
   "cell_type": "code",
   "execution_count": null,
   "metadata": {},
   "outputs": [],
   "source": [
    "with open('workshop_06/data.txt') as file:\n",
    "    print(file.read())"
   ]
  },
  {
   "cell_type": "code",
   "execution_count": null,
   "metadata": {},
   "outputs": [],
   "source": [
    "class MyContexManager:\n",
    "    def __enter__(self):\n",
    "        print('enter')\n",
    "        return 'some object'\n",
    "\n",
    "    def __exit__(self, *exc):\n",
    "        print('exit')"
   ]
  },
  {
   "cell_type": "code",
   "execution_count": null,
   "metadata": {},
   "outputs": [],
   "source": [
    "with MyContexManager():\n",
    "    print('inside of context')"
   ]
  },
  {
   "cell_type": "code",
   "execution_count": null,
   "metadata": {},
   "outputs": [],
   "source": [
    "with MyContexManager() as obj:\n",
    "    print('inside of context')\n",
    "    print(obj)"
   ]
  },
  {
   "cell_type": "code",
   "execution_count": null,
   "metadata": {},
   "outputs": [],
   "source": [
    "ctx = MyContexManager()"
   ]
  },
  {
   "cell_type": "code",
   "execution_count": null,
   "metadata": {},
   "outputs": [],
   "source": [
    "with ctx:\n",
    "    pass"
   ]
  },
  {
   "cell_type": "code",
   "execution_count": null,
   "metadata": {},
   "outputs": [],
   "source": [
    "with ctx:\n",
    "    raise Exception('oups!')"
   ]
  },
  {
   "cell_type": "code",
   "execution_count": null,
   "metadata": {},
   "outputs": [],
   "source": [
    "from contextlib import contextmanager\n",
    "\n",
    "@contextmanager\n",
    "def singleuse():\n",
    "    print(\"Before\")\n",
    "    yield\n",
    "    # yield obj - can be used in with ... as obj stmt\n",
    "    print(\"After\")\n",
    "\n",
    "cm = singleuse()"
   ]
  },
  {
   "cell_type": "code",
   "execution_count": null,
   "metadata": {},
   "outputs": [],
   "source": [
    "with cm:\n",
    "    pass"
   ]
  },
  {
   "cell_type": "markdown",
   "metadata": {},
   "source": [
    "## functions"
   ]
  },
  {
   "cell_type": "markdown",
   "metadata": {},
   "source": [
    "### decorators"
   ]
  },
  {
   "cell_type": "code",
   "execution_count": null,
   "metadata": {},
   "outputs": [],
   "source": [
    "def fun1():\n",
    "    print('fun1')\n",
    "\n",
    "def fun2(func):\n",
    "    print('before calling callable()')\n",
    "    func()\n",
    "    print('after calling callable()')\n",
    "\n",
    "fun2(fun1)"
   ]
  },
  {
   "cell_type": "code",
   "execution_count": null,
   "metadata": {},
   "outputs": [],
   "source": [
    "def my_decorator(func):\n",
    "    def wrapper():\n",
    "        print(\"before calling callable()\")\n",
    "        func() # it's closure!\n",
    "        print(\"after calling callable()\")\n",
    "    return wrapper\n",
    "\n",
    "def say_whee():\n",
    "    print(\"Whee!\")\n",
    "\n",
    "say_whee_decorated = my_decorator(say_whee)\n",
    "say_whee_decorated()"
   ]
  },
  {
   "cell_type": "code",
   "execution_count": null,
   "metadata": {},
   "outputs": [],
   "source": [
    "@my_decorator\n",
    "def say_whee():\n",
    "    print(\"Whee!\")\n",
    "\n",
    "say_whee()"
   ]
  },
  {
   "cell_type": "code",
   "execution_count": null,
   "metadata": {},
   "outputs": [],
   "source": [
    "def my_decorator_creator(times):\n",
    "    def my_decorator(func):\n",
    "        def wrapper():\n",
    "            print(\"before calling callable()\")\n",
    "            for _ in range(times): # another closure!\n",
    "                func()\n",
    "            print(\"after calling callable()\")\n",
    "        return wrapper\n",
    "    return my_decorator\n",
    "\n",
    "@my_decorator_creator(times=5)\n",
    "def say_whee():\n",
    "    print(\"Whee!\")\n",
    "\n",
    "say_whee()"
   ]
  },
  {
   "cell_type": "markdown",
   "metadata": {},
   "source": [
    "### scope"
   ]
  },
  {
   "cell_type": "code",
   "execution_count": null,
   "metadata": {},
   "outputs": [],
   "source": [
    "# How names are created?\n",
    "a = 1\n",
    "\n",
    "def func1(b=2): # mind arguments!\n",
    "    pass\n",
    "\n",
    "class MyClass():\n",
    "    pass\n",
    "\n",
    "import workshop_06"
   ]
  },
  {
   "cell_type": "markdown",
   "metadata": {},
   "source": [
    "LEGB rule:\n",
    "- Local,\n",
    "- Enclosing,\n",
    "- Global, \n",
    "- Built-in. "
   ]
  },
  {
   "cell_type": "markdown",
   "metadata": {},
   "source": [
    "#### local"
   ]
  },
  {
   "cell_type": "code",
   "execution_count": null,
   "metadata": {},
   "outputs": [],
   "source": [
    "%%nbtutor -r -f\n",
    "def func():\n",
    "    func_x = 1\n",
    "    print(func_x)\n",
    "\n",
    "func()\n",
    "print(func_x)"
   ]
  },
  {
   "cell_type": "code",
   "execution_count": null,
   "metadata": {},
   "outputs": [],
   "source": [
    "%%nbtutor -r -f\n",
    "func_x = 1000\n",
    "def func():\n",
    "    func_x = 1\n",
    "    print(func_x)\n",
    "\n",
    "func()\n",
    "print(func_x)"
   ]
  },
  {
   "cell_type": "markdown",
   "metadata": {},
   "source": [
    "#### enclosing"
   ]
  },
  {
   "cell_type": "code",
   "execution_count": null,
   "metadata": {},
   "outputs": [],
   "source": [
    "def func():\n",
    "    func_x = 1\n",
    "\n",
    "    def inner_func():\n",
    "        print(func_x)\n",
    "\n",
    "    inner_func()\n",
    "\n",
    "func()"
   ]
  },
  {
   "cell_type": "code",
   "execution_count": null,
   "metadata": {},
   "outputs": [],
   "source": [
    "%%nbtutor -r -f\n",
    "def func():\n",
    "    func_x = 1\n",
    "\n",
    "    def inner_func():\n",
    "        print(func_x)\n",
    "\n",
    "    return inner_func\n",
    "\n",
    "inner = func() # closure\n",
    "inner()"
   ]
  },
  {
   "cell_type": "code",
   "execution_count": null,
   "metadata": {},
   "outputs": [],
   "source": [
    "def func():\n",
    "    def inner_func():\n",
    "        print(func_y)\n",
    "\n",
    "    func_y = 1\n",
    "    return inner_func\n",
    "\n",
    "inner = func()\n",
    "inner()"
   ]
  },
  {
   "cell_type": "code",
   "execution_count": null,
   "metadata": {},
   "outputs": [],
   "source": [
    "def func():\n",
    "    def inner_func():\n",
    "        print(func_y)\n",
    "\n",
    "    inner_func()\n",
    "    func_y = 1\n",
    "\n",
    "func()"
   ]
  },
  {
   "cell_type": "markdown",
   "metadata": {},
   "source": [
    "#### global"
   ]
  },
  {
   "cell_type": "code",
   "execution_count": null,
   "metadata": {},
   "outputs": [],
   "source": [
    "this_is_global_x = 1\n",
    "def this_is_global_y():\n",
    "    pass\n",
    "# etc..\n",
    "\n",
    "dir()"
   ]
  },
  {
   "cell_type": "markdown",
   "metadata": {},
   "source": [
    "#### built-int"
   ]
  },
  {
   "cell_type": "code",
   "execution_count": null,
   "metadata": {},
   "outputs": [],
   "source": [
    "dir(__builtins__)"
   ]
  },
  {
   "cell_type": "markdown",
   "metadata": {},
   "source": [
    "#### global and nonlocal"
   ]
  },
  {
   "cell_type": "code",
   "execution_count": null,
   "metadata": {},
   "outputs": [],
   "source": [
    "def dooont_do_that():\n",
    "    global x\n",
    "    x = 1\n",
    "dooont_do_that()\n",
    "print(x)"
   ]
  },
  {
   "cell_type": "code",
   "execution_count": null,
   "metadata": {},
   "outputs": [],
   "source": [
    "def func():\n",
    "    func_x = 1\n",
    "\n",
    "    def inner_func():\n",
    "        nonlocal func_x\n",
    "        # nonlocal func_d\n",
    "        func_x += 1 \n",
    "        print(func_x)\n",
    "\n",
    "    return func_x\n",
    "\n",
    "func()"
   ]
  },
  {
   "cell_type": "markdown",
   "metadata": {},
   "source": [
    "### closure"
   ]
  },
  {
   "cell_type": "code",
   "execution_count": null,
   "metadata": {},
   "outputs": [],
   "source": [
    "def func():\n",
    "    func_x = 1\n",
    "\n",
    "    def inner_func():\n",
    "        print(func_x)\n",
    "\n",
    "    return inner_func\n",
    "\n",
    "inner = func() # closure\n",
    "inner() # has access to it's enclosing scope"
   ]
  },
  {
   "cell_type": "markdown",
   "metadata": {},
   "source": [
    "### lambdas"
   ]
  },
  {
   "cell_type": "code",
   "execution_count": null,
   "metadata": {},
   "outputs": [],
   "source": [
    "lambda x: x + 1"
   ]
  },
  {
   "cell_type": "code",
   "execution_count": null,
   "metadata": {},
   "outputs": [],
   "source": [
    "(lambda x: x + 1)(10)"
   ]
  },
  {
   "cell_type": "code",
   "execution_count": null,
   "metadata": {},
   "outputs": [],
   "source": [
    "add_one = lambda x: x + 1"
   ]
  },
  {
   "cell_type": "code",
   "execution_count": null,
   "metadata": {},
   "outputs": [],
   "source": [
    "add_one(2)"
   ]
  },
  {
   "cell_type": "code",
   "execution_count": null,
   "metadata": {},
   "outputs": [],
   "source": [
    "list(map(lambda x: str(x)*10, range(10)))"
   ]
  },
  {
   "cell_type": "code",
   "execution_count": null,
   "metadata": {},
   "outputs": [],
   "source": [
    "list(filter(lambda x: x%2==0, range(10)))"
   ]
  },
  {
   "cell_type": "code",
   "execution_count": null,
   "metadata": {},
   "outputs": [],
   "source": [
    "from functools import reduce\n",
    "reduce(lambda acc, x: str(acc) + str(x), range(10))"
   ]
  },
  {
   "cell_type": "markdown",
   "metadata": {},
   "source": [
    "### eval"
   ]
  },
  {
   "cell_type": "code",
   "execution_count": null,
   "metadata": {},
   "outputs": [],
   "source": [
    "peculiar_str = 'list(filter(lambda x: x%2==0, range(10)))'"
   ]
  },
  {
   "cell_type": "code",
   "execution_count": null,
   "metadata": {},
   "outputs": [],
   "source": [
    "eval(peculiar_str)"
   ]
  },
  {
   "cell_type": "markdown",
   "metadata": {},
   "source": [
    "## Standard Library"
   ]
  },
  {
   "cell_type": "markdown",
   "metadata": {},
   "source": [
    "#### xml"
   ]
  },
  {
   "cell_type": "code",
   "execution_count": null,
   "metadata": {},
   "outputs": [],
   "source": [
    "import xml"
   ]
  },
  {
   "cell_type": "code",
   "execution_count": null,
   "metadata": {},
   "outputs": [],
   "source": [
    "xml_data = '''<?xml version=\"1.0\"?>\n",
    "<data>\n",
    "    <country name=\"Liechtenstein\">\n",
    "        <rank>1</rank>\n",
    "        <year>2008</year>\n",
    "        <gdppc>141100</gdppc>\n",
    "        <neighbor name=\"Austria\" direction=\"E\"/>\n",
    "        <neighbor name=\"Switzerland\" direction=\"W\"/>\n",
    "    </country>\n",
    "    <country name=\"Singapore\">\n",
    "        <rank>4</rank>\n",
    "        <year>2011</year>\n",
    "        <gdppc>59900</gdppc>\n",
    "        <neighbor name=\"Malaysia\" direction=\"N\"/>\n",
    "    </country>\n",
    "    <country name=\"Panama\">\n",
    "        <rank>68</rank>\n",
    "        <year>2011</year>\n",
    "        <gdppc>13600</gdppc>\n",
    "        <neighbor name=\"Costa Rica\" direction=\"W\"/>\n",
    "        <neighbor name=\"Colombia\" direction=\"E\"/>\n",
    "    </country>\n",
    "</data>\n",
    "'''"
   ]
  },
  {
   "cell_type": "code",
   "execution_count": null,
   "metadata": {},
   "outputs": [],
   "source": [
    "import xml.etree.ElementTree as ET\n",
    "root = ET.fromstring(xml_data)\n",
    "root"
   ]
  },
  {
   "cell_type": "code",
   "execution_count": null,
   "metadata": {},
   "outputs": [],
   "source": [
    "help(root)"
   ]
  },
  {
   "cell_type": "code",
   "execution_count": null,
   "metadata": {},
   "outputs": [],
   "source": [
    "list(root)"
   ]
  },
  {
   "cell_type": "code",
   "execution_count": null,
   "metadata": {},
   "outputs": [],
   "source": [
    "root.findall('country')"
   ]
  },
  {
   "cell_type": "code",
   "execution_count": null,
   "metadata": {},
   "outputs": [],
   "source": [
    "root[0][1].text"
   ]
  },
  {
   "cell_type": "markdown",
   "metadata": {},
   "source": [
    "#### csv"
   ]
  },
  {
   "cell_type": "code",
   "execution_count": null,
   "metadata": {},
   "outputs": [],
   "source": [
    "import csv"
   ]
  },
  {
   "cell_type": "code",
   "execution_count": null,
   "metadata": {},
   "outputs": [],
   "source": [
    "help(csv)"
   ]
  },
  {
   "cell_type": "code",
   "execution_count": null,
   "metadata": {},
   "outputs": [],
   "source": [
    "csv_data = [\n",
    "    'Name,Rating,Genre',\n",
    "    'American Psycho,7.6,\"Comedy,Crime,Drama\"',\n",
    "    'The Thing,8.1,\"Horror,Mystery,Sci-Fi\"',\n",
    "    'Jaws,8.0,\"Adventure,Thriller\"',\n",
    "]\n",
    "\n",
    "csv_reader = csv.reader(csv_data)\n",
    "header = next(csv_reader)\n",
    "print(header)\n",
    "print('-----')\n",
    "for row in csv_reader:\n",
    "    print(row)"
   ]
  },
  {
   "cell_type": "markdown",
   "metadata": {},
   "source": [
    "#### datetime"
   ]
  },
  {
   "cell_type": "code",
   "execution_count": null,
   "metadata": {},
   "outputs": [],
   "source": [
    "import time"
   ]
  },
  {
   "cell_type": "code",
   "execution_count": null,
   "metadata": {},
   "outputs": [],
   "source": [
    "time.sleep(3)\n",
    "print('done!')"
   ]
  },
  {
   "cell_type": "code",
   "execution_count": null,
   "metadata": {},
   "outputs": [],
   "source": [
    "import datetime"
   ]
  },
  {
   "cell_type": "code",
   "execution_count": null,
   "metadata": {},
   "outputs": [],
   "source": [
    "datetime.datetime(year=1999, month=1, day=5, hour=14, minute=55)"
   ]
  },
  {
   "cell_type": "code",
   "execution_count": null,
   "metadata": {},
   "outputs": [],
   "source": [
    "now = datetime.datetime.now()\n",
    "now"
   ]
  },
  {
   "cell_type": "code",
   "execution_count": null,
   "metadata": {},
   "outputs": [],
   "source": [
    "yesterday = now - datetime.timedelta(days=1)\n",
    "yesterday"
   ]
  },
  {
   "cell_type": "code",
   "execution_count": null,
   "metadata": {},
   "outputs": [],
   "source": [
    "month_ago = now - datetime.timedelta(months=1)\n",
    "month_ago"
   ]
  },
  {
   "cell_type": "code",
   "execution_count": null,
   "metadata": {},
   "outputs": [],
   "source": [
    "# dateutil"
   ]
  },
  {
   "cell_type": "markdown",
   "metadata": {},
   "source": [
    "#### logging"
   ]
  },
  {
   "cell_type": "code",
   "execution_count": null,
   "metadata": {},
   "outputs": [],
   "source": [
    "import logging\n",
    "logging.getLogger().setLevel(logging.DEBUG)"
   ]
  },
  {
   "cell_type": "code",
   "execution_count": null,
   "metadata": {},
   "outputs": [],
   "source": [
    "logging.debug('motivation is loaded')\n",
    "logging.info('motivation is loaded')\n",
    "logging.warning('motivation is loaded')\n",
    "logging.error('motivation is loaded')"
   ]
  },
  {
   "cell_type": "code",
   "execution_count": null,
   "metadata": {},
   "outputs": [],
   "source": [
    "logger = logging.getLogger('shia')\n",
    "logger.warning('just do it!')"
   ]
  },
  {
   "cell_type": "markdown",
   "metadata": {},
   "source": [
    "#### random"
   ]
  },
  {
   "cell_type": "code",
   "execution_count": null,
   "metadata": {},
   "outputs": [],
   "source": [
    "import random"
   ]
  },
  {
   "cell_type": "code",
   "execution_count": null,
   "metadata": {},
   "outputs": [],
   "source": [
    "help(random)"
   ]
  },
  {
   "cell_type": "code",
   "execution_count": null,
   "metadata": {},
   "outputs": [],
   "source": [
    "random.randint(0, 10)"
   ]
  },
  {
   "cell_type": "code",
   "execution_count": null,
   "metadata": {},
   "outputs": [],
   "source": [
    "my_list = [1,2,3,4,5]"
   ]
  },
  {
   "cell_type": "code",
   "execution_count": null,
   "metadata": {},
   "outputs": [],
   "source": [
    "random.shuffle(my_list)\n",
    "my_list"
   ]
  },
  {
   "cell_type": "code",
   "execution_count": null,
   "metadata": {},
   "outputs": [],
   "source": [
    "random.choice(my_list)"
   ]
  },
  {
   "cell_type": "code",
   "execution_count": null,
   "metadata": {},
   "outputs": [],
   "source": [
    "random.choices(my_list, k=8)"
   ]
  },
  {
   "cell_type": "code",
   "execution_count": null,
   "metadata": {},
   "outputs": [],
   "source": [
    "random.sample(my_list, 3)"
   ]
  },
  {
   "cell_type": "markdown",
   "metadata": {},
   "source": [
    "## External libs"
   ]
  },
  {
   "cell_type": "markdown",
   "metadata": {},
   "source": [
    "#### beautifulsoup4"
   ]
  },
  {
   "cell_type": "code",
   "execution_count": null,
   "metadata": {},
   "outputs": [],
   "source": []
  },
  {
   "cell_type": "code",
   "execution_count": null,
   "metadata": {},
   "outputs": [],
   "source": [
    "from bs4 import BeautifulSoup\n",
    "# https://www.crummy.com/software/BeautifulSoup/bs4/doc/"
   ]
  },
  {
   "cell_type": "code",
   "execution_count": null,
   "metadata": {},
   "outputs": [],
   "source": [
    "html_doc = \"\"\"<html><head><title>The Dormouse's story</title></head>\n",
    "<body>\n",
    "<p class=\"title\"><b>The Dormouse's story</b></p>\n",
    "\n",
    "<p class=\"story\">Once upon a time there were three little sisters; and their names were\n",
    "<a href=\"http://example.com/elsie\" class=\"sister\" id=\"link1\">Elsie</a>,\n",
    "<a href=\"http://example.com/lacie\" class=\"sister\" id=\"link2\">Lacie</a> and\n",
    "<a href=\"http://example.com/tillie\" class=\"sister\" id=\"link3\">Tillie</a>;\n",
    "and they lived at the bottom of a well.</p>\n",
    "\n",
    "<p class=\"story\">...</p>\n",
    "\"\"\""
   ]
  },
  {
   "cell_type": "code",
   "execution_count": null,
   "metadata": {},
   "outputs": [],
   "source": [
    "soup = BeautifulSoup(html_doc, 'html.parser')\n",
    "print(soup.prettify())"
   ]
  },
  {
   "cell_type": "code",
   "execution_count": null,
   "metadata": {
    "tags": []
   },
   "outputs": [],
   "source": [
    "print(soup.title)\n",
    "print(soup.title.name)\n",
    "print(soup.title.string)"
   ]
  },
  {
   "cell_type": "code",
   "execution_count": null,
   "metadata": {},
   "outputs": [],
   "source": [
    "help(soup.title)"
   ]
  },
  {
   "cell_type": "code",
   "execution_count": null,
   "metadata": {},
   "outputs": [],
   "source": [
    "help(soup)"
   ]
  },
  {
   "cell_type": "code",
   "execution_count": null,
   "metadata": {},
   "outputs": [],
   "source": [
    "soup.find_all('a')"
   ]
  },
  {
   "cell_type": "code",
   "execution_count": null,
   "metadata": {},
   "outputs": [],
   "source": [
    "soup.find(id=\"link3\")"
   ]
  }
 ],
 "metadata": {
  "kernelspec": {
   "display_name": "Python 3",
   "language": "python",
   "name": "python3"
  },
  "language_info": {
   "codemirror_mode": {
    "name": "ipython",
    "version": 3
   },
   "file_extension": ".py",
   "mimetype": "text/x-python",
   "name": "python",
   "nbconvert_exporter": "python",
   "pygments_lexer": "ipython3",
   "version": "3.7.5"
  },
  "metadata": {
   "interpreter": {
    "hash": "d672a92aa9bebcd1396243d63b7acdb84b4617b703189d1e28d2139a2fec2a78"
   }
  }
 },
 "nbformat": 4,
 "nbformat_minor": 2
}
