{
 "cells": [
  {
   "cell_type": "markdown",
   "metadata": {},
   "source": [
    "# Workshop #3 exercises - mapping types, sets and generators\n",
    "\n",
    "Fill `__` and `pass`."
   ]
  },
  {
   "cell_type": "markdown",
   "metadata": {},
   "source": [
    "HW Python local setup\n",
    "- pyenv \n",
    "    - https://github.com/pyenv/pyenv#homebrew-on-macos\n",
    "    - https://realpython.com/intro-to-pyenv/#using-pyenv-to-install-python\n",
    "- virtualenv\n",
    "    - set python 3.7 with `pyenv global`\n",
    "    - create a project dir and initialize inside virtualenv https://docs.python.org/3/library/venv.html#creating-virtual-environments"
   ]
  },
  {
   "cell_type": "code",
   "execution_count": null,
   "metadata": {},
   "outputs": [],
   "source": [
    "\"\"\"\n",
    "#1 Luke Skywalker has family and friends. Help him remind them who is who. Given a string with a name, return the relation of that person to Luke.\n",
    "\n",
    "Person\t        Relation\n",
    "Darth Vader\t    father\n",
    "Leia\t        sister\n",
    "Han\t            brother in law\n",
    "R2D2\t        droid\n",
    "\n",
    "\"\"\"\n",
    "\n",
    "def relation_to_luke(person):\n",
    "    pass\n",
    "\n",
    "assert relation_to_luke(\"Darth Vader\") == \"Luke, I am your father.\"\n",
    "assert relation_to_luke(\"Leia\") == \"Luke, I am your sister.\"\n",
    "assert relation_to_luke(\"Han\") == \"Luke, I am your brother in law.\"\n",
    "print('ok!')"
   ]
  },
  {
   "cell_type": "code",
   "execution_count": null,
   "metadata": {},
   "outputs": [],
   "source": [
    "\"\"\"\n",
    "#2 Needle in haystack. Get the needle value.\n",
    "Bonus: rename 'needle' to 'dagger'.\n",
    "\"\"\"\n",
    "\n",
    "dictionary = {\n",
    "    1: {\n",
    "        'on my': {\n",
    "            'way': {\n",
    "                (1, 2): {\n",
    "                    'needle': 42\n",
    "                }\n",
    "            },\n",
    "            'watch': 'not'\n",
    "        }\n",
    "    },\n",
    "    2: {\n",
    "        'dead': 'end'\n",
    "    }\n",
    "}\n",
    "\n",
    "assert __ == 42\n",
    "print('ok!')"
   ]
  },
  {
   "cell_type": "code",
   "execution_count": null,
   "metadata": {},
   "outputs": [],
   "source": [
    "\"\"\"\n",
    "#3 Delete given keys\n",
    "\"\"\"\n",
    "\n",
    "def delete_keys(dictionary, keys_to_delete):\n",
    "    pass\n",
    "\n",
    "dictionary = {1: 1, 2: 2, 3: 3}\n",
    "delete_keys(dictionary, [1, 3])\n",
    "assert dictionary == {2: 2}\n",
    "print('ok!')"
   ]
  },
  {
   "cell_type": "code",
   "execution_count": null,
   "metadata": {},
   "outputs": [],
   "source": [
    "\"\"\"\n",
    "#4 Make reversed dictionary.\n",
    "{1: 'one', 2: 'two'} -> {'one': 1, 'two': 2}\n",
    "\"\"\"\n",
    "def make_reversed_dict(dictionary):\n",
    "    pass\n",
    "\n",
    "def make_reversed_dict_2(dictionary):\n",
    "    \"\"\"try using dict comprehension\"\"\"\n",
    "    pass\n",
    "\n",
    "dict_1 = {1: 'one', 2: 'two'}\n",
    "\n",
    "new_dict_1 = make_reversed_dict(dict_1)\n",
    "assert dict_1 is not new_dict_1\n",
    "assert new_dict_1 == {'one': 1, 'two': 2}\n",
    "print('ok!')\n",
    "\n",
    "new_dict_1 = make_reversed_dict_2(dict_1)\n",
    "assert dict_1 is not new_dict_1\n",
    "assert new_dict_1 == {'one': 1, 'two': 2}\n",
    "\n",
    "print('ok!')"
   ]
  },
  {
   "cell_type": "code",
   "execution_count": null,
   "metadata": {},
   "outputs": [],
   "source": [
    "\"\"\"\n",
    "#5 Reverse dictionary in-place. It's tricky!\n",
    "{1: 'one', 2: 'two'} -> {'one': 1, 'two': 2} but it is still same object\n",
    "\"\"\"\n",
    "def reverse_dict(dictionary):\n",
    "    pass\n",
    "\n",
    "dict_1 = {1: 'one', 2: 'two'}\n",
    "assert reverse_dict(dict_1) is None\n",
    "assert dict_1 == {'one': 1, 'two': 2}\n",
    "print('ok!')\n",
    "\n",
    "dict_2 = {1: 2, 2: 3, 3: 4}\n",
    "assert reverse_dict(dict_2) is None\n",
    "assert dict_2 == {2: 1, 3: 2, 4: 3}\n",
    "print('ok!')"
   ]
  },
  {
   "cell_type": "code",
   "execution_count": null,
   "metadata": {},
   "outputs": [],
   "source": [
    "\"\"\"\n",
    "#6 Concatenate dicts.\n",
    "\"\"\"\n",
    "def concatenate_dict(d1, d2, d3):\n",
    "    pass\n",
    "\n",
    "assert concatenate_dict({1: 1, 2: 2}, {2:2, 3:3}, {3:3, 4:4}) == {1:1, 2:2, 3:3, 4:4}\n",
    "print('ok!')"
   ]
  },
  {
   "cell_type": "code",
   "execution_count": null,
   "metadata": {},
   "outputs": [],
   "source": [
    "\"\"\"\n",
    "#7 Create dictionary that maps numbers 1-10 to its square.\n",
    "\"\"\"\n",
    "def make_square_mapping():\n",
    "    pass\n",
    "\n",
    "square_mapping = make_square_mapping()\n",
    "assert square_mapping[1] == 1\n",
    "assert square_mapping[5] == 25\n",
    "assert square_mapping[8] == 64\n",
    "assert len(square_mapping) == 10\n",
    "print('ok!')"
   ]
  },
  {
   "cell_type": "code",
   "execution_count": null,
   "metadata": {},
   "outputs": [],
   "source": [
    "\"\"\"\n",
    "#8 Count letters in string.\n",
    "\"\"\"\n",
    "\n",
    "def count_letters(str1):\n",
    "    pass\n",
    "\n",
    "counter = count_letters(\"Rise and shine, Mister Freeman\")\n",
    "assert counter['s'] == 3\n",
    "assert counter['e'] == 5\n",
    "assert counter['n'] == 5\n",
    "print('ok!')"
   ]
  },
  {
   "cell_type": "code",
   "execution_count": null,
   "metadata": {},
   "outputs": [],
   "source": [
    "\"\"\"\n",
    "#9 Filter out even values.\n",
    "\"\"\"\n",
    "\n",
    "def filter_even(d):\n",
    "    pass\n",
    "\n",
    "filtered_dict = filter_even({\n",
    "    1: [1,2,3,4,5],\n",
    "    2: [3,4,5],\n",
    "    3: [7,8],\n",
    "})\n",
    "assert filtered_dict == {\n",
    "    1: [1,3,5],\n",
    "    2: [3,5],\n",
    "    3: [7,],\n",
    "}\n",
    "print('ok!')"
   ]
  },
  {
   "cell_type": "code",
   "execution_count": null,
   "metadata": {},
   "outputs": [],
   "source": [
    "\"\"\"\n",
    "#10 Write function that will check if phrase/word contains 4 or more vowels.\n",
    "Hint: use sets.\n",
    "\"\"\"\n",
    "__"
   ]
  },
  {
   "cell_type": "code",
   "execution_count": null,
   "metadata": {},
   "outputs": [],
   "source": [
    "\"\"\"\n",
    "#11 Display all numbers 1-100 that has 7 in it.\n",
    "\"\"\"\n",
    "__"
   ]
  },
  {
   "cell_type": "code",
   "execution_count": null,
   "metadata": {},
   "outputs": [],
   "source": [
    "\"\"\"\n",
    "#12 Find all numbers 1-100 that are divisible by any digit 5-9 (inclusive). Use any comprehension.\n",
    "\"\"\"\n",
    "__"
   ]
  }
 ],
 "metadata": {
  "kernelspec": {
   "display_name": "Python 3",
   "language": "python",
   "name": "python3"
  },
  "language_info": {
   "codemirror_mode": {
    "name": "ipython",
    "version": 3
   },
   "file_extension": ".py",
   "mimetype": "text/x-python",
   "name": "python",
   "nbconvert_exporter": "python",
   "pygments_lexer": "ipython3",
   "version": "3.7.5"
  }
 },
 "nbformat": 4,
 "nbformat_minor": 2
}
