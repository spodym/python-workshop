{
 "cells": [
  {
   "cell_type": "markdown",
   "metadata": {},
   "source": [
    "# Workshop #1 exercises - types, operators, control flow"
   ]
  },
  {
   "cell_type": "markdown",
   "metadata": {},
   "source": [
    "## Batteries included"
   ]
  },
  {
   "cell_type": "code",
   "execution_count": null,
   "metadata": {},
   "outputs": [],
   "source": [
    "import __hello__"
   ]
  },
  {
   "cell_type": "code",
   "execution_count": null,
   "metadata": {},
   "outputs": [],
   "source": [
    "import antigravity"
   ]
  },
  {
   "cell_type": "markdown",
   "metadata": {},
   "source": [
    "## Exercises\n",
    "\n",
    "`pass` is an empty statement. It does nothing. \n",
    "Replace `pass` statement with correct logic."
   ]
  },
  {
   "cell_type": "code",
   "execution_count": null,
   "metadata": {},
   "outputs": [],
   "source": [
    "\"\"\"\n",
    "#1 Odd or even\n",
    "Depending on given number print \"even\" or \"odd\".\n",
    "\"\"\"\n",
    "\n",
    "number = input('provide number')\n",
    "\n",
    "pass"
   ]
  },
  {
   "cell_type": "code",
   "execution_count": null,
   "metadata": {},
   "outputs": [],
   "source": [
    "\"\"\"\n",
    "#2 Grading\n",
    "Given score 1-100 print grade A-F. A is given for 90 and above, B for 80 and above etc.\n",
    "\"\"\"\n",
    "\n",
    "score = input('provide score')\n",
    "\n",
    "pass"
   ]
  },
  {
   "cell_type": "code",
   "execution_count": null,
   "metadata": {},
   "outputs": [],
   "source": [
    "\"\"\"\n",
    "#3 Curzon Number\n",
    "A number N is said to be a Curzon Number if 2^N + 1 is divisible by 2*N + 1.\n",
    "Check whether given number is Curzon Number. \n",
    "\"\"\"\n",
    "\n",
    "number = input('provide number')\n",
    "\n",
    "pass"
   ]
  },
  {
   "cell_type": "code",
   "execution_count": null,
   "metadata": {},
   "outputs": [],
   "source": [
    "\"\"\"\n",
    "#4 FizzBuzz\n",
    "Given a number print correct message.\n",
    "If the number is multiple of 3 - \"Fizz\"\n",
    "If is multiple of 5 - \"Buzz\"\n",
    "If is multiple of 3 and 5 - \"FizzBuzz\"\n",
    "If is not multiple of 3 or 5 - print the number itself.\n",
    "\"\"\"\n",
    "\n",
    "number = input('provide number')\n",
    "\n",
    "pass"
   ]
  }
 ],
 "metadata": {
  "kernelspec": {
   "display_name": "Python 3",
   "language": "python",
   "name": "python3"
  },
  "language_info": {
   "codemirror_mode": {
    "name": "ipython",
    "version": 3
   },
   "file_extension": ".py",
   "mimetype": "text/x-python",
   "name": "python",
   "nbconvert_exporter": "python",
   "pygments_lexer": "ipython3",
   "version": "3.7.5"
  }
 },
 "nbformat": 4,
 "nbformat_minor": 2
}
