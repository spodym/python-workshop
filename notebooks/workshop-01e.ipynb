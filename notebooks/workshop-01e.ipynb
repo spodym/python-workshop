{
 "metadata": {
  "language_info": {
   "codemirror_mode": {
    "name": "ipython",
    "version": 3
   },
   "file_extension": ".py",
   "mimetype": "text/x-python",
   "name": "python",
   "nbconvert_exporter": "python",
   "pygments_lexer": "ipython3",
   "version": "3.7.5"
  },
  "orig_nbformat": 2,
  "kernelspec": {
   "name": "python3",
   "display_name": "Python 3.7.5 64-bit ('3.7.5': pyenv)",
   "metadata": {
    "interpreter": {
     "hash": "c040754d37aebe47bd3f76843674641836fbf8bf0b1365ab3de02d7988dd1eb5"
    }
   }
  }
 },
 "nbformat": 4,
 "nbformat_minor": 2,
 "cells": [
  {
   "source": [
    "# Workshop #1 exercises - types, operators, control flow"
   ],
   "cell_type": "markdown",
   "metadata": {}
  },
  {
   "source": [
    "## Batteries included"
   ],
   "cell_type": "markdown",
   "metadata": {}
  },
  {
   "source": [
    "import __hello__"
   ],
   "cell_type": "code",
   "metadata": {},
   "execution_count": null,
   "outputs": []
  },
  {
   "cell_type": "code",
   "execution_count": null,
   "metadata": {},
   "outputs": [],
   "source": [
    "import antigravity"
   ]
  },
  {
   "source": [
    "## Exercises\n",
    "\n",
    "`pass` is an empty statement. It does nothing. \n",
    "Replace `pass` statement with correct logic."
   ],
   "cell_type": "markdown",
   "metadata": {}
  },
  {
   "cell_type": "code",
   "execution_count": null,
   "metadata": {},
   "outputs": [],
   "source": [
    "\"\"\"\n",
    "Odd or even\n",
    "Depending on given number print \"even\" or \"odd\".\n",
    "\"\"\"\n",
    "\n",
    "number = input('provide number')\n",
    "\n",
    "pass"
   ]
  },
  {
   "cell_type": "code",
   "execution_count": null,
   "metadata": {},
   "outputs": [],
   "source": [
    "\"\"\"\n",
    "Grading\n",
    "Given score 1-100 print grade A-F. A is given for 90 and above, B for 80 and above etc.\n",
    "\"\"\"\n",
    "\n",
    "score = input('provide score')\n",
    "\n",
    "pass"
   ]
  },
  {
   "cell_type": "code",
   "execution_count": null,
   "metadata": {},
   "outputs": [],
   "source": [
    "\"\"\"\n",
    "Curzon Number\n",
    "A number N is said to be a Curzon Number if 2^N + 1 is divisible by 2*N + 1.\n",
    "Check whether given number is Curzon Number. \n",
    "\"\"\"\n",
    "\n",
    "number = input('provide number')\n",
    "\n",
    "pass"
   ]
  },
  {
   "cell_type": "code",
   "execution_count": null,
   "metadata": {},
   "outputs": [],
   "source": [
    "\"\"\"\n",
    "FizzBuzz\n",
    "Given a number print correct message.\n",
    "If the number is multiple of 3 - \"Fizz\"\n",
    "If is multiple of 5 - \"Buzz\"\n",
    "If is multiple of 3 and 5 - \"FizzBuzz\"\n",
    "If is not multiple of 3 or 5 - print the number itself.\n",
    "\"\"\"\n",
    "\n",
    "number = input('provide number')\n",
    "\n",
    "pass"
   ]
  }
 ]
}