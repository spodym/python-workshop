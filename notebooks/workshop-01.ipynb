{
 "metadata": {
  "language_info": {
   "codemirror_mode": {
    "name": "ipython",
    "version": 3
   },
   "file_extension": ".py",
   "mimetype": "text/x-python",
   "name": "python",
   "nbconvert_exporter": "python",
   "pygments_lexer": "ipython3",
   "version": "3.7.5"
  },
  "orig_nbformat": 2,
  "kernelspec": {
   "name": "python3",
   "display_name": "Python 3.7.5 64-bit ('3.7.5': pyenv)",
   "metadata": {
    "interpreter": {
     "hash": "c040754d37aebe47bd3f76843674641836fbf8bf0b1365ab3de02d7988dd1eb5"
    }
   }
  }
 },
 "nbformat": 4,
 "nbformat_minor": 2,
 "cells": [
  {
   "source": [
    "# Workshop #1 - types, operators, control flow\n",
    "\n",
    "## What is Python\n",
    "\n",
    "From Wikipedia: Python is an **interpreted**, high-level and general-purpose programming language. (...) Python is **dynamically-typed** and **garbage-collected**. It supports multiple programming paradigms, including **structured**, **object-oriented** and functional programming. Python is often described as a \"**batteries included**\" language due to its comprehensive standard library."
   ],
   "cell_type": "markdown",
   "metadata": {}
  },
  {
   "source": [
    "### interpreted\n",
    "\n",
    "It means roughly: reading line-by-line and executing it.\n",
    "But Python is also compiled... It's complicated."
   ],
   "cell_type": "markdown",
   "metadata": {}
  },
  {
   "cell_type": "code",
   "execution_count": null,
   "metadata": {},
   "outputs": [],
   "source": [
    "%reload_ext tutormagic\n",
    "%reload_ext nbtutor"
   ]
  },
  {
   "source": [
    "%%tutor --lang python3\n",
    "a = 1\n",
    "b = 2\n",
    "print(a + b)\n",
    "1 / \"0\"\n",
    "print('Snake? Snake!? Snaaaaakeee!')"
   ],
   "cell_type": "code",
   "metadata": {},
   "execution_count": null,
   "outputs": []
  },
  {
   "source": [
    "### dynamic, strongly typed\n",
    "\n",
    "Python is dynamic, strongly typed language.\n"
   ],
   "cell_type": "markdown",
   "metadata": {}
  },
  {
   "cell_type": "code",
   "execution_count": null,
   "metadata": {},
   "outputs": [],
   "source": [
    "# Python is dynamically-typed\n",
    "a = 1\n",
    "b = 2\n",
    "print(a + b)\n",
    "a = \"Snake\"\n",
    "print(a)"
   ]
  },
  {
   "cell_type": "code",
   "execution_count": null,
   "metadata": {},
   "outputs": [],
   "source": [
    "a: int = 1  # type hints\n",
    "a = \"Snake\"\n",
    "print(a)"
   ]
  },
  {
   "source": [
    "# Python is strongly-typed\n",
    "a = 1\n",
    "b = \"2\"\n",
    "print(str(a) + b)\n",
    "print(a + b)"
   ],
   "cell_type": "code",
   "metadata": {},
   "execution_count": null,
   "outputs": []
  },
  {
   "source": [
    "## Jupyter notebook cheat-sheet\n",
    "\n",
    "Shortcut|Action\n",
    ":-|:-\n",
    "Enter|enter edit mode\n",
    "Escape|enter command mode\n",
    "Ctrl+Enter|run cell\n",
    "Shift+Enter|run cell and move\n",
    "(command mode) m|change cell to markdown\n",
    "(command mode) y|change cell to code\n",
    "(command mode) d+d|delete cell\n",
    "(command mode) o|show/hide output\n"
   ],
   "cell_type": "markdown",
   "metadata": {}
  },
  {
   "source": [
    "## Basic types"
   ],
   "cell_type": "markdown",
   "metadata": {}
  },
  {
   "cell_type": "code",
   "execution_count": null,
   "metadata": {},
   "outputs": [],
   "source": [
    "# numeric\n",
    "a = 4\n",
    "print(a)\n",
    "print(type(a))\n",
    "\n",
    "a = 4.2\n",
    "print(a)\n",
    "print(type(a))"
   ]
  },
  {
   "source": [
    "# text\n",
    "print('this is text object')\n",
    "print(\"this is also text object\")\n",
    "print(\"escaping characters is easy: This is quote sign:\\\".\\nand this was a new line.\")\n",
    "print(\"\"\"Multi\n",
    "line\n",
    "strings are useful. Those are often used as docstrings.\n",
    "\"\"\")\n",
    "\n",
    "a = \"1 2 3...\"\n",
    "print(a)\n",
    "print(type(a))\n"
   ],
   "cell_type": "code",
   "metadata": {},
   "execution_count": null,
   "outputs": []
  },
  {
   "cell_type": "code",
   "execution_count": null,
   "metadata": {},
   "outputs": [],
   "source": [
    "# boolean\n",
    "a = True\n",
    "b = False\n",
    "\n",
    "print(a)\n",
    "print(type(a))"
   ]
  },
  {
   "cell_type": "code",
   "execution_count": null,
   "metadata": {},
   "outputs": [],
   "source": [
    "# None, null, nil\n",
    "a = None\n",
    "print(a)\n",
    "print(type(a))"
   ]
  },
  {
   "source": [
    "## Operators\n",
    "\n",
    "All operators from lowest to highest precedense:\n",
    "\n",
    "Operator|Description\n",
    ":-|:-\n",
    "or|Boolean OR\n",
    "and|Boolean AND\n",
    "not x|Boolean NOT\n",
    "in, not in, is, is not, <, <=, >, >=, !=, ==|Comparisons, including membership tests and identity tests\n",
    "\\||Bitwise OR\n",
    "^|Bitwise XOR\n",
    "&|Bitwise AND\n",
    "<<, >>|Shifts\n",
    "+, -|Addition and subtraction\n",
    "*, @, /, //, %|Multiplication, matrix multiplication, division, floor division, remainder\n",
    "+x, -x, ~x|Positive, negative, bitwise NOT\n",
    "**|Exponentiation"
   ],
   "cell_type": "markdown",
   "metadata": {}
  },
  {
   "source": [
    "### arithmetic"
   ],
   "cell_type": "markdown",
   "metadata": {}
  },
  {
   "cell_type": "code",
   "execution_count": null,
   "metadata": {},
   "outputs": [],
   "source": [
    "2+3"
   ]
  },
  {
   "cell_type": "code",
   "execution_count": null,
   "metadata": {},
   "outputs": [],
   "source": [
    "2-3"
   ]
  },
  {
   "cell_type": "code",
   "execution_count": null,
   "metadata": {},
   "outputs": [],
   "source": [
    "-1"
   ]
  },
  {
   "cell_type": "code",
   "execution_count": null,
   "metadata": {},
   "outputs": [],
   "source": [
    "+1"
   ]
  },
  {
   "cell_type": "code",
   "execution_count": null,
   "metadata": {},
   "outputs": [],
   "source": [
    "2*3"
   ]
  },
  {
   "cell_type": "code",
   "execution_count": null,
   "metadata": {},
   "outputs": [],
   "source": [
    "3/2"
   ]
  },
  {
   "cell_type": "code",
   "execution_count": null,
   "metadata": {},
   "outputs": [],
   "source": [
    "3//2"
   ]
  },
  {
   "cell_type": "code",
   "execution_count": null,
   "metadata": {},
   "outputs": [],
   "source": [
    "3.0/2"
   ]
  },
  {
   "cell_type": "code",
   "execution_count": null,
   "metadata": {},
   "outputs": [],
   "source": [
    "3.0//2"
   ]
  },
  {
   "cell_type": "code",
   "execution_count": null,
   "metadata": {},
   "outputs": [],
   "source": [
    "3%2"
   ]
  },
  {
   "cell_type": "code",
   "execution_count": null,
   "metadata": {},
   "outputs": [],
   "source": [
    "3**2"
   ]
  },
  {
   "cell_type": "code",
   "execution_count": null,
   "metadata": {},
   "outputs": [],
   "source": [
    "0.1 + 0.2"
   ]
  },
  {
   "source": [
    "### comparisons"
   ],
   "cell_type": "markdown",
   "metadata": {}
  },
  {
   "cell_type": "code",
   "execution_count": null,
   "metadata": {},
   "outputs": [],
   "source": [
    "1 < 2"
   ]
  },
  {
   "cell_type": "code",
   "execution_count": null,
   "metadata": {},
   "outputs": [],
   "source": [
    "2 > 1"
   ]
  },
  {
   "cell_type": "code",
   "execution_count": null,
   "metadata": {},
   "outputs": [],
   "source": [
    "2 < 1"
   ]
  },
  {
   "cell_type": "code",
   "execution_count": null,
   "metadata": {},
   "outputs": [],
   "source": [
    "1 < 2 < 3"
   ]
  },
  {
   "cell_type": "code",
   "execution_count": null,
   "metadata": {},
   "outputs": [],
   "source": [
    "1 < 2 and 2 < 3"
   ]
  },
  {
   "cell_type": "code",
   "execution_count": null,
   "metadata": {},
   "outputs": [],
   "source": [
    "2 < 3 > 1"
   ]
  },
  {
   "cell_type": "code",
   "execution_count": null,
   "metadata": {},
   "outputs": [],
   "source": [
    "2 == 2"
   ]
  },
  {
   "cell_type": "code",
   "execution_count": null,
   "metadata": {},
   "outputs": [],
   "source": [
    "2 <= 2"
   ]
  },
  {
   "cell_type": "code",
   "execution_count": null,
   "metadata": {},
   "outputs": [],
   "source": [
    "2 >= 2"
   ]
  },
  {
   "cell_type": "code",
   "execution_count": null,
   "metadata": {},
   "outputs": [],
   "source": [
    "2 != 2"
   ]
  },
  {
   "cell_type": "code",
   "execution_count": null,
   "metadata": {},
   "outputs": [],
   "source": [
    "1 is 2"
   ]
  },
  {
   "cell_type": "code",
   "execution_count": null,
   "metadata": {},
   "outputs": [],
   "source": [
    "2 is not 1"
   ]
  },
  {
   "cell_type": "code",
   "execution_count": null,
   "metadata": {},
   "outputs": [],
   "source": [
    "%%nbtutor -r -f\n",
    "a = 1\n",
    "print(a is a)\n",
    "b = 1\n",
    "print(a is b)\n",
    "c = 2\n",
    "print(a is c)"
   ]
  },
  {
   "source": [
    "### boolean"
   ],
   "cell_type": "markdown",
   "metadata": {}
  },
  {
   "cell_type": "code",
   "execution_count": null,
   "metadata": {},
   "outputs": [],
   "source": [
    "True and False"
   ]
  },
  {
   "cell_type": "code",
   "execution_count": null,
   "metadata": {},
   "outputs": [],
   "source": [
    "True or False"
   ]
  },
  {
   "cell_type": "code",
   "execution_count": null,
   "metadata": {},
   "outputs": [],
   "source": [
    "not True"
   ]
  },
  {
   "source": [
    "### dunder sneak-peak"
   ],
   "cell_type": "markdown",
   "metadata": {}
  },
  {
   "cell_type": "code",
   "execution_count": null,
   "metadata": {},
   "outputs": [],
   "source": [
    "# dunder/magic-function sneak-peak\n",
    "class Matrix():\n",
    "    def __matmul__(self, other): # first indentation!\n",
    "        # don't do that in real code!\n",
    "        return \"multiplied!\"\n",
    "\n",
    "matrix1 = Matrix()\n",
    "print(matrix1 @ matrix1)"
   ]
  },
  {
   "source": [
    "## Some built-in functions"
   ],
   "cell_type": "markdown",
   "metadata": {}
  },
  {
   "cell_type": "code",
   "execution_count": null,
   "metadata": {},
   "outputs": [],
   "source": [
    "type(1)"
   ]
  },
  {
   "cell_type": "code",
   "execution_count": null,
   "metadata": {},
   "outputs": [],
   "source": [
    "print('test')"
   ]
  },
  {
   "cell_type": "code",
   "execution_count": null,
   "metadata": {},
   "outputs": [],
   "source": [
    "help(str)"
   ]
  },
  {
   "cell_type": "code",
   "execution_count": null,
   "metadata": {},
   "outputs": [],
   "source": [
    "dir(str)"
   ]
  },
  {
   "cell_type": "code",
   "execution_count": null,
   "metadata": {},
   "outputs": [],
   "source": [
    "str(312)"
   ]
  },
  {
   "cell_type": "code",
   "execution_count": null,
   "metadata": {},
   "outputs": [],
   "source": [
    "bool(1)"
   ]
  },
  {
   "cell_type": "code",
   "execution_count": null,
   "metadata": {},
   "outputs": [],
   "source": [
    "int(\"312\")"
   ]
  },
  {
   "cell_type": "code",
   "execution_count": null,
   "metadata": {},
   "outputs": [],
   "source": [
    "float(\"3.14\")"
   ]
  },
  {
   "cell_type": "code",
   "execution_count": null,
   "metadata": {},
   "outputs": [],
   "source": [
    "input(\"please enter secret code\")"
   ]
  },
  {
   "source": [
    "and more coming..."
   ],
   "cell_type": "markdown",
   "metadata": {}
  },
  {
   "source": [
    "## Control flow"
   ],
   "cell_type": "markdown",
   "metadata": {}
  },
  {
   "source": [
    "### if statement\n",
    "\n",
    "- if\n",
    "- if / else\n",
    "- if / elif\n",
    "- if / elif / else\n",
    "- if / elif / elif / (...) / else"
   ],
   "cell_type": "markdown",
   "metadata": {}
  },
  {
   "cell_type": "code",
   "execution_count": null,
   "metadata": {},
   "outputs": [],
   "source": [
    "rumor = True\n",
    "if rumor:\n",
    "    print('so it\\'s all true!') "
   ]
  },
  {
   "source": [
    "height = 130\n",
    "roller_coaster_height_requirement = 150\n",
    "\n",
    "if height > roller_coaster_height_requirement:\n",
    "    print('welcome aboard!')\n",
    "else:\n",
    "    print('you must be this tall to ride')"
   ],
   "cell_type": "code",
   "metadata": {},
   "execution_count": null,
   "outputs": []
  },
  {
   "cell_type": "code",
   "execution_count": null,
   "metadata": {},
   "outputs": [],
   "source": [
    "number = 2\n",
    "if number == 1:\n",
    "    print('looks like one')\n",
    "elif number == 2:\n",
    "    print('that\\'s two!')\n",
    "else:\n",
    "    print('three or more!')"
   ]
  },
  {
   "cell_type": "code",
   "execution_count": null,
   "metadata": {},
   "outputs": [],
   "source": [
    "person = 'Aragorn'\n",
    "if person != 'Balrog':\n",
    "    print('Run you fool!')\n",
    "else:\n",
    "    \"1\" / 0"
   ]
  },
  {
   "cell_type": "code",
   "execution_count": null,
   "metadata": {},
   "outputs": [],
   "source": [
    "has_pointy_ears = True\n",
    "has_long_beard = False\n",
    "has_long_staff = False\n",
    "is_deamon = False\n",
    "\n",
    "if not is_deamon:\n",
    "    if has_pointy_ears:\n",
    "        print('*jumps lightly*')\n",
    "    elif has_long_beard:\n",
    "        print('nobody tosses a Dwarf')\n",
    "    else:\n",
    "        print('dramatic action')\n",
    "\n",
    "    if has_long_staff:\n",
    "        print(':(')\n",
    "    else:\n",
    "        print('runs away')\n",
    "else:\n",
    "    \"1\" / 0"
   ]
  },
  {
   "source": [
    "### try statement\n",
    "\n",
    "- try / except\n",
    "- try / except / (...) / finally\n",
    "- try / except / else / finally\n",
    "- raise"
   ],
   "cell_type": "markdown",
   "metadata": {}
  },
  {
   "cell_type": "code",
   "execution_count": null,
   "metadata": {},
   "outputs": [],
   "source": [
    "try:\n",
    "    1 / 0\n",
    "except ZeroDivisionError:\n",
    "    print('oups!')"
   ]
  },
  {
   "cell_type": "code",
   "execution_count": null,
   "metadata": {},
   "outputs": [],
   "source": [
    "try:\n",
    "    1 / 0\n",
    "except ZeroDivisionError as e:\n",
    "    print('oups!')\n",
    "    print(type(e))\n",
    "    print(e)"
   ]
  },
  {
   "cell_type": "code",
   "execution_count": null,
   "metadata": {},
   "outputs": [],
   "source": [
    "try:\n",
    "    1 / 0\n",
    "except Exception as e:\n",
    "    print('gotta catch all exceptions!')\n",
    "    print(e)\n",
    "except ZeroDivisionError as e:\n",
    "    print('oups!')\n",
    "    print(e)"
   ]
  },
  {
   "cell_type": "code",
   "execution_count": null,
   "metadata": {},
   "outputs": [],
   "source": [
    "try:\n",
    "    1 / 0\n",
    "except (Exception, ZeroDivisionError) as e:\n",
    "    print('oups!')\n",
    "    print(e)"
   ]
  },
  {
   "cell_type": "code",
   "execution_count": null,
   "metadata": {},
   "outputs": [],
   "source": [
    "try:\n",
    "    1 / 0\n",
    "    # 0 / 1\n",
    "except ZeroDivisionError:\n",
    "    print('oups!')\n",
    "finally:\n",
    "    print('perfect place for cleanup!')"
   ]
  },
  {
   "cell_type": "code",
   "execution_count": null,
   "metadata": {},
   "outputs": [],
   "source": [
    "try:\n",
    "    # 1 / 0\n",
    "    0 / 1\n",
    "except ZeroDivisionError:\n",
    "    print('oups!')\n",
    "else:\n",
    "    print('no oups?')\n"
   ]
  },
  {
   "cell_type": "code",
   "execution_count": null,
   "metadata": {},
   "outputs": [],
   "source": [
    "try:\n",
    "    raise Exception('something terrible!')\n",
    "except Exception as e:\n",
    "    print('oups!')\n",
    "    print(e)"
   ]
  },
  {
   "source": [
    "### match case\n",
    "\n",
    "Python 3.10 feature"
   ],
   "cell_type": "markdown",
   "metadata": {}
  },
  {
   "cell_type": "code",
   "execution_count": null,
   "metadata": {},
   "outputs": [],
   "source": [
    "response_status = 200\n",
    "\n",
    "match response_status:\n",
    "    case 200:\n",
    "        print(\"do_something\")\n",
    "    case 301 | 302:\n",
    "        print(\"follow redirect\")\n",
    "    case 401:\n",
    "        print(\"login and retry\")\n",
    "    case _:\n",
    "        raise RequestError(\"we couldn't get the data\")"
   ]
  }
 ]
}