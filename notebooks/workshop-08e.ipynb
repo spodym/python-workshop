{
 "metadata": {
  "language_info": {
   "codemirror_mode": {
    "name": "ipython",
    "version": 3
   },
   "file_extension": ".py",
   "mimetype": "text/x-python",
   "name": "python",
   "nbconvert_exporter": "python",
   "pygments_lexer": "ipython3",
   "version": "3.7.5"
  },
  "orig_nbformat": 2,
  "kernelspec": {
   "name": "python375jvsc74a57bd0c040754d37aebe47bd3f76843674641836fbf8bf0b1365ab3de02d7988dd1eb5",
   "display_name": "Python 3.7.5 64-bit ('3.7.5')"
  }
 },
 "nbformat": 4,
 "nbformat_minor": 2,
 "cells": [
  {
   "source": [
    "# Workshop #8 exercises - popular libraries"
   ],
   "cell_type": "markdown",
   "metadata": {}
  },
  {
   "cell_type": "code",
   "execution_count": null,
   "metadata": {},
   "outputs": [],
   "source": [
    "\"\"\"\n",
    "#1 Write pytest test suite for process_dividends function from previous workshops. You can modify original function if it will help you test it. Try testing different dates, amounts, currencies etc.\n",
    "\"\"\""
   ]
  },
  {
   "cell_type": "code",
   "execution_count": null,
   "metadata": {},
   "outputs": [],
   "source": [
    "\"\"\"\n",
    "#2 Make largest_triple_product.py runnable from cli. Use argparse. Example:\n",
    "python largest_triple_product.py 1 2 3 4 5\n",
    "[-1, -1, 6, 24, 60]\n",
    "\"\"\""
   ]
  },
  {
   "cell_type": "code",
   "execution_count": null,
   "metadata": {},
   "outputs": [],
   "source": [
    "\"\"\"\n",
    "#3 Write script for scraping Wikipedia websites. Print out 10 most used words with count.\n",
    "\"\"\""
   ]
  }
 ]
}