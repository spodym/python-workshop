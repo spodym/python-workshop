{
 "cells": [
  {
   "cell_type": "markdown",
   "metadata": {},
   "source": [
    "# Workshop #4 exercises - functions"
   ]
  },
  {
   "cell_type": "code",
   "execution_count": 1,
   "metadata": {},
   "outputs": [
    {
     "data": {
      "text/plain": [
       "'ok!'"
      ]
     },
     "execution_count": 1,
     "metadata": {},
     "output_type": "execute_result"
    }
   ],
   "source": [
    "\"\"\"\n",
    "#1 Write a function which which sums up two arguments. Both arguments are optional and will default to 0. \n",
    "\"\"\"\n",
    "def sum_up(a=0, b=0):\n",
    "    return a + b\n",
    "\n",
    "assert sum_up(4, 5) == 9\n",
    "assert sum_up(4) == 4\n",
    "assert sum_up() == 0\n",
    "'ok!'"
   ]
  },
  {
   "cell_type": "code",
   "execution_count": 2,
   "metadata": {},
   "outputs": [
    {
     "data": {
      "text/plain": [
       "'ok!'"
      ]
     },
     "execution_count": 2,
     "metadata": {},
     "output_type": "execute_result"
    }
   ],
   "source": [
    "\"\"\"\n",
    "#2 Write a function that will sum up all arguments provided. It should throw `Exception('bad input')` if argument is not int.\n",
    "\"\"\"\n",
    "def sum_up(*args):\n",
    "    result = 0\n",
    "    for x in args:\n",
    "        if not isinstance(x, int):\n",
    "            raise Exception('bad input')\n",
    "        result += x\n",
    "    return result\n",
    "\n",
    "assert sum_up(1, 1, 1, 1, 1) == 5\n",
    "assert sum_up(4, 5) == 9\n",
    "assert sum_up(4) == 4\n",
    "assert sum_up() == 0\n",
    "try:\n",
    "    sum_up('')\n",
    "    assert False\n",
    "except Exception as e:\n",
    "    assert str(e) == 'bad input'\n",
    "'ok!'"
   ]
  },
  {
   "cell_type": "code",
   "execution_count": 3,
   "metadata": {},
   "outputs": [
    {
     "data": {
      "text/plain": [
       "'ok!'"
      ]
     },
     "execution_count": 3,
     "metadata": {},
     "output_type": "execute_result"
    }
   ],
   "source": [
    "\"\"\"\n",
    "#3 Implement `arg_converter` function. It takes any number of args, filters out odd numbers and invokes kwarg_printer with proper argument. Fill `__`. There is no need to add more lines.\n",
    "\"\"\"\n",
    "def arg_converter(*args):\n",
    "    data = {str(x): x*100 for x in args if x%2==0}\n",
    "    return kwarg_printer(**data)\n",
    "\n",
    "def kwarg_printer(**kwargs):\n",
    "    return list(kwargs.items())\n",
    "\n",
    "assert arg_converter(1, 2, 3, 4) == [('2', 200), ('4', 400)]\n",
    "assert arg_converter(2, 4, 6, 8) == [('2', 200), ('4', 400), ('6', 600), ('8', 800)]\n",
    "assert arg_converter(1, 3, 5) == []\n",
    "assert arg_converter(*range(40)) == [('0', 0),\n",
    " ('2', 200),\n",
    " ('4', 400),\n",
    " ('6', 600),\n",
    " ('8', 800),\n",
    " ('10', 1000),\n",
    " ('12', 1200),\n",
    " ('14', 1400),\n",
    " ('16', 1600),\n",
    " ('18', 1800),\n",
    " ('20', 2000),\n",
    " ('22', 2200),\n",
    " ('24', 2400),\n",
    " ('26', 2600),\n",
    " ('28', 2800),\n",
    " ('30', 3000),\n",
    " ('32', 3200),\n",
    " ('34', 3400),\n",
    " ('36', 3600),\n",
    " ('38', 3800)]\n",
    "'ok!'"
   ]
  },
  {
   "cell_type": "code",
   "execution_count": 4,
   "metadata": {},
   "outputs": [
    {
     "data": {
      "text/plain": [
       "'ok!'"
      ]
     },
     "execution_count": 4,
     "metadata": {},
     "output_type": "execute_result"
    }
   ],
   "source": [
    "\"\"\"\n",
    "#4 Reverse list. Use recursion and unpacking.\n",
    "\"\"\"\n",
    "\n",
    "def reverse_list(some_list):\n",
    "    if not some_list:\n",
    "        return []\n",
    "    first, *rest = some_list\n",
    "    return reverse_list(rest) + [first]\n",
    "\n",
    "assert reverse_list([1, 2, 3, 4]) == [4, 3, 2, 1]\n",
    "'ok!'"
   ]
  },
  {
   "cell_type": "code",
   "execution_count": 5,
   "metadata": {},
   "outputs": [
    {
     "data": {
      "text/plain": [
       "'ok!'"
      ]
     },
     "execution_count": 5,
     "metadata": {},
     "output_type": "execute_result"
    }
   ],
   "source": [
    "\"\"\"\n",
    "#5 Finish implementing number to ordinal converter.\n",
    "\"\"\"\n",
    "def st_ordinal(n):\n",
    "    return str(n) + 'st'\n",
    "\n",
    "def nd_ordinal(n):\n",
    "    return str(n) + 'nd'\n",
    "\n",
    "def rd_ordinal(n):\n",
    "    return str(n) + 'rd'\n",
    "\n",
    "def default_ordinal(n):\n",
    "    return str(n) + 'th'\n",
    "\n",
    "ordinals = {\n",
    "    '1': st_ordinal,\n",
    "    '2': nd_ordinal,\n",
    "    '3': rd_ordinal,\n",
    "}\n",
    "\n",
    "def number_to_ordinal(number):\n",
    "    str_number = str(number)\n",
    "    ordinal_of = ordinals.get(str_number[-1], default_ordinal)\n",
    "\n",
    "    # 11th, 112th, etc.\n",
    "    if number > 10 and str_number[-2] == '1':\n",
    "        ordinal_of = default_ordinal\n",
    "\n",
    "    return ordinal_of(number)\n",
    "\n",
    "assert number_to_ordinal(0) == '0th'\n",
    "assert number_to_ordinal(1) == '1st'\n",
    "assert number_to_ordinal(2) == '2nd'\n",
    "assert number_to_ordinal(3) == '3rd'\n",
    "assert number_to_ordinal(4) == '4th'\n",
    "assert number_to_ordinal(45) == '45th'\n",
    "assert number_to_ordinal(101) == '101st'\n",
    "assert number_to_ordinal(102) == '102nd'\n",
    "assert number_to_ordinal(111) == '111th'\n",
    "assert number_to_ordinal(112) == '112th'\n",
    "assert number_to_ordinal(1047) == '1047th'\n",
    "'ok!'"
   ]
  },
  {
   "cell_type": "code",
   "execution_count": 6,
   "metadata": {},
   "outputs": [
    {
     "data": {
      "text/plain": [
       "'ok!'"
      ]
     },
     "execution_count": 6,
     "metadata": {},
     "output_type": "execute_result"
    }
   ],
   "source": [
    "\"\"\"\n",
    "#6 Use `number_to_ordinal` to create infinite ordinal generator. Starting from '1st'.\n",
    "\"\"\"\n",
    "def ordinal_generator():\n",
    "    counter = 0\n",
    "    while True:\n",
    "        counter += 1\n",
    "        yield number_to_ordinal(counter)\n",
    "\n",
    "ordinal_iterator = ordinal_generator()\n",
    "assert next(ordinal_iterator) == '1st'\n",
    "assert next(ordinal_iterator) == '2nd'\n",
    "for _ in range(100):\n",
    "    next(ordinal_iterator)\n",
    "assert next(ordinal_iterator) == '103rd'\n",
    "assert next(ordinal_iterator) == '104th'\n",
    "'ok!'"
   ]
  },
  {
   "cell_type": "code",
   "execution_count": 7,
   "metadata": {},
   "outputs": [
    {
     "name": "stdout",
     "output_type": "stream",
     "text": [
      "[0]\n",
      "[1, 1]\n",
      "[1, 2, 1]\n",
      "[1, 3, 3, 1]\n",
      "[1, 4, 6, 4, 1]\n"
     ]
    }
   ],
   "source": [
    "\"\"\"\n",
    "#7 Pascal's triangle. Finish implementing function.\n",
    "\"\"\"\n",
    "def print_pascals(level=None, levels_to_print=1):\n",
    "    if not level:\n",
    "        level = [0]\n",
    "\n",
    "    print(level)\n",
    "    levels_to_print -= 1\n",
    "    if levels_to_print == 0:\n",
    "        return\n",
    "    \n",
    "    next_level = [1] + [level[i] + level[i+1] for i in range(len(level)-1)] + [1]\n",
    "\n",
    "    print_pascals(next_level, levels_to_print)\n",
    "\n",
    "\"\"\"\n",
    "print_pascals(levels_to_print=5) should print:\n",
    "[1]\n",
    "[1, 1]\n",
    "[1, 2, 1]\n",
    "[1, 3, 3, 1]\n",
    "[1, 4, 6, 4, 1]\n",
    "\"\"\"\n",
    "print_pascals(levels_to_print=5)"
   ]
  },
  {
   "cell_type": "code",
   "execution_count": null,
   "metadata": {},
   "outputs": [],
   "source": []
  }
 ],
 "metadata": {
  "kernelspec": {
   "display_name": "Python 3",
   "language": "python",
   "name": "python3"
  },
  "language_info": {
   "codemirror_mode": {
    "name": "ipython",
    "version": 3
   },
   "file_extension": ".py",
   "mimetype": "text/x-python",
   "name": "python",
   "nbconvert_exporter": "python",
   "pygments_lexer": "ipython3",
   "version": "3.7.5"
  }
 },
 "nbformat": 4,
 "nbformat_minor": 2
}
