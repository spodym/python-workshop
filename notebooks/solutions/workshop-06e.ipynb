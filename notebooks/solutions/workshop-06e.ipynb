{
 "cells": [
  {
   "cell_type": "markdown",
   "metadata": {},
   "source": [
    "# Workshop #6 exercises - context managers, decorators and scope"
   ]
  },
  {
   "cell_type": "code",
   "execution_count": 1,
   "metadata": {},
   "outputs": [
    {
     "data": {
      "text/plain": [
       "'ok!'"
      ]
     },
     "execution_count": 1,
     "metadata": {},
     "output_type": "execute_result"
    }
   ],
   "source": [
    "\"\"\"\n",
    "#1 Implement adder_func using lambda.\n",
    "\"\"\"\n",
    "add_2 = lambda x: x + 2\n",
    "\n",
    "assert add_2(1) == 3\n",
    "assert add_2(10) == 12\n",
    "assert add_2(100) == 102\n",
    "'ok!'"
   ]
  },
  {
   "cell_type": "code",
   "execution_count": 2,
   "metadata": {},
   "outputs": [
    {
     "data": {
      "text/plain": [
       "'ok!'"
      ]
     },
     "execution_count": 2,
     "metadata": {},
     "output_type": "execute_result"
    }
   ],
   "source": [
    "\"\"\"\n",
    "#2 Implement `add_suffix` using lambda expression and regular funciton.\n",
    "\"\"\"\n",
    "# using lambda with closure\n",
    "add_suffix = lambda suffix: (lambda word: word + suffix)\n",
    "\n",
    "# using regular function with closure\n",
    "def add_suffix(suffix):\n",
    "    def inner_func(word):\n",
    "        return word + suffix\n",
    "    return inner_func\n",
    "\n",
    "add_ly = add_suffix(\"ly\")\n",
    "add_less = add_suffix(\"less\")\n",
    "\n",
    "assert add_ly(\"hopeless\") == \"hopelessly\"\n",
    "assert add_ly(\"total\") == \"totally\"\n",
    "assert add_less(\"fear\") == \"fearless\"\n",
    "assert add_less(\"ruth\") == \"ruthless\"\n",
    "'ok!'"
   ]
  },
  {
   "cell_type": "code",
   "execution_count": 3,
   "metadata": {},
   "outputs": [
    {
     "name": "stdout",
     "output_type": "stream",
     "text": [
      "Whee!\n"
     ]
    },
    {
     "data": {
      "text/plain": [
       "'ok!'"
      ]
     },
     "execution_count": 3,
     "metadata": {},
     "output_type": "execute_result"
    }
   ],
   "source": [
    "\"\"\"\n",
    "#3 Implement decorator that slows function by 2 seconds.\n",
    "\"\"\"\n",
    "import time\n",
    "\n",
    "def my_decorator(func):\n",
    "    def wrapper():\n",
    "        time.sleep(1)\n",
    "        return func()\n",
    "    return wrapper\n",
    "\n",
    "@my_decorator\n",
    "def whee():\n",
    "    print(\"Whee!\")\n",
    "\n",
    "@my_decorator\n",
    "def whee_2():\n",
    "    return \"Whee!\"\n",
    "\n",
    "start = time.time()\n",
    "whee()\n",
    "stop = time.time()\n",
    "assert stop - start > 1\n",
    "\n",
    "start = time.time()\n",
    "assert whee_2() == 'Whee!'\n",
    "stop = time.time()\n",
    "assert stop - start > 1\n",
    "'ok!'"
   ]
  },
  {
   "cell_type": "code",
   "execution_count": 4,
   "metadata": {},
   "outputs": [
    {
     "name": "stderr",
     "output_type": "stream",
     "text": [
      "WARNING:root:whee was running for 1.0047760009765625 seconds\n"
     ]
    },
    {
     "data": {
      "text/plain": [
       "'ok!'"
      ]
     },
     "execution_count": 4,
     "metadata": {},
     "output_type": "execute_result"
    }
   ],
   "source": [
    "\"\"\"\n",
    "#4 Implement decorator that measures function execution time and logs it out as warning if took more than 1 sec.\n",
    "\n",
    "Expected output:\n",
    "WARNING:root:whee was running for 1.0040621757507324 seconds\n",
    "\n",
    "Note:\n",
    "You can access function name from function object like this: my_function.__name__\n",
    "\"\"\"\n",
    "import time\n",
    "import logging\n",
    "\n",
    "logging.getLogger().setLevel(logging.WARNING)\n",
    "\n",
    "def my_decorator(func):\n",
    "    def wrapper():\n",
    "        start = time.time()\n",
    "        result = func()\n",
    "        stop = time.time()\n",
    "        duration = stop - start\n",
    "        if duration > 0:\n",
    "            logging.warning(func.__name__ + ' was running for ' + str(duration) + ' seconds')\n",
    "\n",
    "        return result\n",
    "\n",
    "    return wrapper\n",
    "\n",
    "@my_decorator\n",
    "def whee():\n",
    "    time.sleep(1)\n",
    "    return \"Whee!\"\n",
    "\n",
    "assert whee() == 'Whee!'\n",
    "'ok!'"
   ]
  },
  {
   "cell_type": "code",
   "execution_count": 5,
   "metadata": {},
   "outputs": [
    {
     "name": "stderr",
     "output_type": "stream",
     "text": [
      "INFO:root:Time elapsed 1.00407075881958 seconds\n"
     ]
    },
    {
     "data": {
      "text/plain": [
       "'ok!'"
      ]
     },
     "execution_count": 5,
     "metadata": {},
     "output_type": "execute_result"
    }
   ],
   "source": [
    "\"\"\"\n",
    "#5 Measure time with context manager.\n",
    "\n",
    "Expected output:\n",
    "INFO:root:Time elapsed 1.0000948905944824 seconds\n",
    "\"\"\"\n",
    "import time\n",
    "import logging\n",
    "from contextlib import contextmanager\n",
    "\n",
    "logging.getLogger().setLevel(logging.INFO)\n",
    "\n",
    "@contextmanager\n",
    "def measure_time():\n",
    "    start = time.time()\n",
    "    yield\n",
    "    stop = time.time()\n",
    "    logging.info('Time elapsed ' + str(stop - start) + ' seconds')\n",
    "\n",
    "def whee():\n",
    "    time.sleep(1)\n",
    "\n",
    "with measure_time():\n",
    "    whee()\n",
    "\n",
    "'ok!'"
   ]
  },
  {
   "cell_type": "code",
   "execution_count": null,
   "metadata": {},
   "outputs": [],
   "source": [
    "!pip install beautifulsoup4"
   ]
  },
  {
   "cell_type": "code",
   "execution_count": 7,
   "metadata": {},
   "outputs": [
    {
     "data": {
      "text/plain": [
       "'ok!'"
      ]
     },
     "execution_count": 7,
     "metadata": {},
     "output_type": "execute_result"
    }
   ],
   "source": [
    "\"\"\"\n",
    "#6 Parse xml data into python dict mapping country name to list of neighbors. Use xml module and BeautifulSoup.\n",
    "\n",
    "Note: You can access node attribute via `.attrib` dictionary:\n",
    "country_node.attrib['name']\n",
    "\"\"\"\n",
    "from collections import defaultdict\n",
    "import xml.etree.ElementTree as ET\n",
    "from bs4 import BeautifulSoup\n",
    "\n",
    "xml_data = '''<?xml version=\"1.0\"?>\n",
    "<data>\n",
    "    <country name=\"Liechtenstein\">\n",
    "        <rank>1</rank>\n",
    "        <year>2008</year>\n",
    "        <gdppc>141100</gdppc>\n",
    "        <neighbor name=\"Austria\" direction=\"E\"/>\n",
    "        <neighbor name=\"Switzerland\" direction=\"W\"/>\n",
    "    </country>\n",
    "    <country name=\"Singapore\">\n",
    "        <rank>4</rank>\n",
    "        <year>2011</year>\n",
    "        <gdppc>59900</gdppc>\n",
    "        <neighbor name=\"Malaysia\" direction=\"N\"/>\n",
    "    </country>\n",
    "    <country name=\"Panama\">\n",
    "        <rank>68</rank>\n",
    "        <year>2011</year>\n",
    "        <gdppc>13600</gdppc>\n",
    "        <neighbor name=\"Costa Rica\" direction=\"W\"/>\n",
    "        <neighbor name=\"Colombia\" direction=\"E\"/>\n",
    "    </country>\n",
    "</data>\n",
    "'''\n",
    "\n",
    "def parse(xml_data):    \n",
    "    root = ET.fromstring(xml_data)\n",
    "    country_mapping = defaultdict(list)\n",
    "\n",
    "    for country_node in root.findall('country'):\n",
    "        country_name = country_node.attrib['name']\n",
    "\n",
    "        for neighbor_node in country_node.findall('neighbor'):\n",
    "            neighbor_name = neighbor_node.attrib['name']\n",
    "            country_mapping[country_name].append(neighbor_name)\n",
    "\n",
    "    return country_mapping\n",
    "\n",
    "def parse_bs(xml_data):    \n",
    "    soup = BeautifulSoup(xml_data, 'xml')\n",
    "    country_mapping = defaultdict(list)\n",
    "\n",
    "    for country_node in soup.find_all('country'):\n",
    "        country_name = country_node.attrs['name']\n",
    "\n",
    "        for neighbor_node in country_node.find_all('neighbor'):\n",
    "            neighbor_name = neighbor_node.attrs['name']\n",
    "            country_mapping[country_name].append(neighbor_name)\n",
    "\n",
    "    return country_mapping\n",
    "\n",
    "data = parse(xml_data)\n",
    "assert set(data['Panama']) == set(['Costa Rica', 'Colombia'])\n",
    "\n",
    "data = parse_bs(xml_data)\n",
    "assert set(data['Panama']) == set(['Costa Rica', 'Colombia'])\n",
    "'ok!'"
   ]
  }
 ],
 "metadata": {
  "kernelspec": {
   "display_name": "Python 3",
   "language": "python",
   "name": "python3"
  },
  "language_info": {
   "codemirror_mode": {
    "name": "ipython",
    "version": 3
   },
   "file_extension": ".py",
   "mimetype": "text/x-python",
   "name": "python",
   "nbconvert_exporter": "python",
   "pygments_lexer": "ipython3",
   "version": "3.7.5"
  }
 },
 "nbformat": 4,
 "nbformat_minor": 2
}
